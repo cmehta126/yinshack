{
 "cells": [
  {
   "cell_type": "code",
   "execution_count": 15,
   "metadata": {
    "collapsed": true
   },
   "outputs": [],
   "source": [
    "import numpy as np\n",
    "import pandas as pd\n",
    "from sklearn.preprocessing import LabelEncoder, OneHotEncoder\n",
    "import matplotlib\n",
    "import matplotlib.pyplot as plt"
   ]
  },
  {
   "cell_type": "code",
   "execution_count": 18,
   "metadata": {
    "collapsed": true
   },
   "outputs": [],
   "source": [
    "%matplotlib inline"
   ]
  },
  {
   "cell_type": "code",
   "execution_count": 2,
   "metadata": {
    "collapsed": false
   },
   "outputs": [],
   "source": [
    "offc = pd.read_csv('data/toy.officer_data.csv',sep=',')\n",
    "cmpl = pd.read_csv('data/toy.complaint_data.csv', sep=',')"
   ]
  },
  {
   "cell_type": "code",
   "execution_count": 3,
   "metadata": {
    "collapsed": false
   },
   "outputs": [
    {
     "data": {
      "text/html": [
       "<div style=\"max-height:1000px;max-width:1500px;overflow:auto;\">\n",
       "<table border=\"1\" class=\"dataframe\">\n",
       "  <thead>\n",
       "    <tr style=\"text-align: right;\">\n",
       "      <th></th>\n",
       "      <th>first.name</th>\n",
       "      <th>last.name</th>\n",
       "      <th>appointed.date</th>\n",
       "      <th>race</th>\n",
       "      <th>gender</th>\n",
       "      <th>birth.year</th>\n",
       "      <th>age</th>\n",
       "      <th>rank</th>\n",
       "      <th>primary</th>\n",
       "      <th>secondary</th>\n",
       "      <th>tertiary</th>\n",
       "      <th>officer_id</th>\n",
       "    </tr>\n",
       "  </thead>\n",
       "  <tbody>\n",
       "    <tr>\n",
       "      <th>0</th>\n",
       "      <td>   KARINA</td>\n",
       "      <td>       AARON</td>\n",
       "      <td> 2005-09-26</td>\n",
       "      <td> HISPANIC</td>\n",
       "      <td> FEMALE</td>\n",
       "      <td> 1980</td>\n",
       "      <td> 35</td>\n",
       "      <td> POLICE OFFICER</td>\n",
       "      <td> 0</td>\n",
       "      <td> 1</td>\n",
       "      <td> 0</td>\n",
       "      <td> 1139</td>\n",
       "    </tr>\n",
       "    <tr>\n",
       "      <th>1</th>\n",
       "      <td>     AZIZ</td>\n",
       "      <td> ABDELMAJEID</td>\n",
       "      <td> 2008-04-28</td>\n",
       "      <td>  A_OTHER</td>\n",
       "      <td>   MALE</td>\n",
       "      <td> 1984</td>\n",
       "      <td> 31</td>\n",
       "      <td> POLICE OFFICER</td>\n",
       "      <td> 0</td>\n",
       "      <td> 0</td>\n",
       "      <td> 1</td>\n",
       "      <td>  434</td>\n",
       "    </tr>\n",
       "    <tr>\n",
       "      <th>2</th>\n",
       "      <td> JENNIFER</td>\n",
       "      <td>     ACCARDO</td>\n",
       "      <td> 2004-11-29</td>\n",
       "      <td>    WHITE</td>\n",
       "      <td> FEMALE</td>\n",
       "      <td> 1979</td>\n",
       "      <td> 37</td>\n",
       "      <td> POLICE OFFICER</td>\n",
       "      <td> 0</td>\n",
       "      <td> 0</td>\n",
       "      <td> 1</td>\n",
       "      <td> 2515</td>\n",
       "    </tr>\n",
       "    <tr>\n",
       "      <th>3</th>\n",
       "      <td> ROSEMARY</td>\n",
       "      <td>     ACCARDO</td>\n",
       "      <td> 1986-08-11</td>\n",
       "      <td>    WHITE</td>\n",
       "      <td> FEMALE</td>\n",
       "      <td> 1952</td>\n",
       "      <td> 63</td>\n",
       "      <td> POLICE OFFICER</td>\n",
       "      <td> 0</td>\n",
       "      <td> 0</td>\n",
       "      <td> 1</td>\n",
       "      <td> 1149</td>\n",
       "    </tr>\n",
       "    <tr>\n",
       "      <th>4</th>\n",
       "      <td>   THOMAS</td>\n",
       "      <td>     ACCARDO</td>\n",
       "      <td> 2001-04-30</td>\n",
       "      <td>    WHITE</td>\n",
       "      <td>   MALE</td>\n",
       "      <td> 1967</td>\n",
       "      <td> 49</td>\n",
       "      <td> POLICE OFFICER</td>\n",
       "      <td> 0</td>\n",
       "      <td> 1</td>\n",
       "      <td> 0</td>\n",
       "      <td> 2134</td>\n",
       "    </tr>\n",
       "  </tbody>\n",
       "</table>\n",
       "</div>"
      ],
      "text/plain": [
       "  first.name    last.name appointed.date      race  gender  birth.year  age  \\\n",
       "0     KARINA        AARON     2005-09-26  HISPANIC  FEMALE        1980   35   \n",
       "1       AZIZ  ABDELMAJEID     2008-04-28   A_OTHER    MALE        1984   31   \n",
       "2   JENNIFER      ACCARDO     2004-11-29     WHITE  FEMALE        1979   37   \n",
       "3   ROSEMARY      ACCARDO     1986-08-11     WHITE  FEMALE        1952   63   \n",
       "4     THOMAS      ACCARDO     2001-04-30     WHITE    MALE        1967   49   \n",
       "\n",
       "             rank  primary  secondary  tertiary  officer_id  \n",
       "0  POLICE OFFICER        0          1         0        1139  \n",
       "1  POLICE OFFICER        0          0         1         434  \n",
       "2  POLICE OFFICER        0          0         1        2515  \n",
       "3  POLICE OFFICER        0          0         1        1149  \n",
       "4  POLICE OFFICER        0          1         0        2134  "
      ]
     },
     "execution_count": 3,
     "metadata": {},
     "output_type": "execute_result"
    }
   ],
   "source": [
    "offc.head()"
   ]
  },
  {
   "cell_type": "code",
   "execution_count": 4,
   "metadata": {
    "collapsed": false
   },
   "outputs": [
    {
     "data": {
      "text/html": [
       "<div style=\"max-height:1000px;max-width:1500px;overflow:auto;\">\n",
       "<table border=\"1\" class=\"dataframe\">\n",
       "  <thead>\n",
       "    <tr style=\"text-align: right;\">\n",
       "      <th></th>\n",
       "      <th>crid</th>\n",
       "      <th>incident_date</th>\n",
       "      <th>beat_2012_geocoded</th>\n",
       "      <th>complaintcategory</th>\n",
       "      <th>finalfinding</th>\n",
       "      <th>officer_id</th>\n",
       "    </tr>\n",
       "  </thead>\n",
       "  <tbody>\n",
       "    <tr>\n",
       "      <th>0</th>\n",
       "      <td> 1022797</td>\n",
       "      <td> 01-Jan-2009  0:08</td>\n",
       "      <td>NaN</td>\n",
       "      <td> 03G-MISCELLANEOUS</td>\n",
       "      <td> EX</td>\n",
       "      <td> 1</td>\n",
       "    </tr>\n",
       "    <tr>\n",
       "      <th>1</th>\n",
       "      <td> 1022797</td>\n",
       "      <td> 01-Jan-2009  0:08</td>\n",
       "      <td>NaN</td>\n",
       "      <td> 03G-MISCELLANEOUS</td>\n",
       "      <td> EX</td>\n",
       "      <td> 2</td>\n",
       "    </tr>\n",
       "    <tr>\n",
       "      <th>2</th>\n",
       "      <td> 1022797</td>\n",
       "      <td> 01-Jan-2009  0:08</td>\n",
       "      <td>NaN</td>\n",
       "      <td> 03G-MISCELLANEOUS</td>\n",
       "      <td> EX</td>\n",
       "      <td> 3</td>\n",
       "    </tr>\n",
       "    <tr>\n",
       "      <th>3</th>\n",
       "      <td> 1022797</td>\n",
       "      <td> 01-Jan-2009  0:08</td>\n",
       "      <td>NaN</td>\n",
       "      <td> 03G-MISCELLANEOUS</td>\n",
       "      <td> EX</td>\n",
       "      <td> 4</td>\n",
       "    </tr>\n",
       "    <tr>\n",
       "      <th>4</th>\n",
       "      <td> 1022797</td>\n",
       "      <td> 01-Jan-2009  0:08</td>\n",
       "      <td>NaN</td>\n",
       "      <td> 03G-MISCELLANEOUS</td>\n",
       "      <td> EX</td>\n",
       "      <td> 5</td>\n",
       "    </tr>\n",
       "  </tbody>\n",
       "</table>\n",
       "</div>"
      ],
      "text/plain": [
       "      crid      incident_date  beat_2012_geocoded  complaintcategory  \\\n",
       "0  1022797  01-Jan-2009  0:08                 NaN  03G-MISCELLANEOUS   \n",
       "1  1022797  01-Jan-2009  0:08                 NaN  03G-MISCELLANEOUS   \n",
       "2  1022797  01-Jan-2009  0:08                 NaN  03G-MISCELLANEOUS   \n",
       "3  1022797  01-Jan-2009  0:08                 NaN  03G-MISCELLANEOUS   \n",
       "4  1022797  01-Jan-2009  0:08                 NaN  03G-MISCELLANEOUS   \n",
       "\n",
       "  finalfinding  officer_id  \n",
       "0           EX           1  \n",
       "1           EX           2  \n",
       "2           EX           3  \n",
       "3           EX           4  \n",
       "4           EX           5  "
      ]
     },
     "execution_count": 4,
     "metadata": {},
     "output_type": "execute_result"
    }
   ],
   "source": [
    "cmpl.head()"
   ]
  },
  {
   "cell_type": "code",
   "execution_count": 5,
   "metadata": {
    "collapsed": true
   },
   "outputs": [],
   "source": [
    "X = offc\n",
    "X = X.drop(X.columns[[0,1,5,7,11]], axis=1)\n",
    "X[X.columns[0]] = X[X.columns[0]].astype(str).str[0:4].astype(int)"
   ]
  },
  {
   "cell_type": "code",
   "execution_count": 6,
   "metadata": {
    "collapsed": false
   },
   "outputs": [],
   "source": [
    "X_cat = X[X.columns[[1,2]]]\n",
    "Y=X_cat.apply(LabelEncoder().fit_transform)"
   ]
  },
  {
   "cell_type": "code",
   "execution_count": 7,
   "metadata": {
    "collapsed": true
   },
   "outputs": [],
   "source": [
    "X[X.columns[[1,2]]] = Y\n",
    "np.where(np.isnan(X))\n",
    "X.iat[np.where(np.isnan(X))[0][0],np.where(np.isnan(X))[1][0]]=0"
   ]
  },
  {
   "cell_type": "code",
   "execution_count": 10,
   "metadata": {
    "collapsed": true
   },
   "outputs": [],
   "source": [
    "X_race = pd.get_dummies(X['race'])"
   ]
  },
  {
   "cell_type": "markdown",
   "metadata": {},
   "source": [
    "add one-hot encoded races"
   ]
  },
  {
   "cell_type": "code",
   "execution_count": 11,
   "metadata": {
    "collapsed": true
   },
   "outputs": [],
   "source": [
    "X = X.drop(X.columns[[1]], axis=1)\n",
    "X = X.join(X_race, how='outer')\n",
    "Y = cmpl.groupby('officer_id').count()['crid']"
   ]
  },
  {
   "cell_type": "code",
   "execution_count": 12,
   "metadata": {
    "collapsed": true
   },
   "outputs": [],
   "source": [
    "from sklearn import linear_model\n",
    "clf = linear_model.LinearRegression()\n",
    "X2=X[X.columns[[6,7,8,9]]]"
   ]
  },
  {
   "cell_type": "code",
   "execution_count": 16,
   "metadata": {
    "collapsed": true
   },
   "outputs": [],
   "source": [
    "clf.fit(X2,Y)\n",
    "predicts = clf.predict(X2)"
   ]
  },
  {
   "cell_type": "code",
   "execution_count": 19,
   "metadata": {
    "collapsed": false
   },
   "outputs": [
    {
     "data": {
      "text/plain": [
       "<matplotlib.collections.PathCollection at 0x10c943b50>"
      ]
     },
     "execution_count": 19,
     "metadata": {},
     "output_type": "execute_result"
    },
    {
     "data": {
      "image/png": "[encoded data removed]",
      "text/plain": [
       "<matplotlib.figure.Figure at 0x10c840490>"
      ]
     },
     "metadata": {},
     "output_type": "display_data"
    }
   ],
   "source": [
    "A = np.where(X2)[1]\n",
    "plt.scatter(Y,predicts, c=A,s=100)"
   ]
  },
  {
   "cell_type": "code",
   "execution_count": null,
   "metadata": {
    "collapsed": true
   },
   "outputs": [],
   "source": []
  }
 ],
 "metadata": {
  "kernelspec": {
   "display_name": "Python [conda root]",
   "language": "python",
   "name": "conda-root-py"
  },
  "language_info": {
   "codemirror_mode": {
    "name": "ipython",
    "version": 2
   },
   "file_extension": ".py",
   "mimetype": "text/x-python",
   "name": "python",
   "nbconvert_exporter": "python",
   "pygments_lexer": "ipython2",
   "version": "2.7.12"
  }
 },
 "nbformat": 4,
 "nbformat_minor": 1
}
