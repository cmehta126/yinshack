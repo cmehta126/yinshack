{
 "cells": [
  {
   "cell_type": "code",
   "execution_count": 1,
   "metadata": {
    "collapsed": true
   },
   "outputs": [],
   "source": [
    "import numpy as np \n",
    "import pandas as pd\n",
    "import os\n",
    "import sys\n",
    "import email\n",
    "import re\n",
    "import matplotlib.pyplot as plt\n",
    "%matplotlib inline\n",
    "import hashlib"
   ]
  },
  {
   "cell_type": "code",
   "execution_count": 2,
   "metadata": {
    "collapsed": false
   },
   "outputs": [
    {
     "data": {
      "text/plain": [
       "'/Users/spielman/rep/class/262'"
      ]
     },
     "execution_count": 2,
     "metadata": {},
     "output_type": "execute_result"
    }
   ],
   "source": [
    "os.getcwd()"
   ]
  },
  {
   "cell_type": "code",
   "execution_count": 3,
   "metadata": {
    "collapsed": false
   },
   "outputs": [],
   "source": [
    "# reading from files ahead of time so won't loose time in class\n",
    "few_emails = pd.read_pickle(\"data/enron/enron1k.pkl\")\n",
    "df = pd.read_pickle(\"data/enron/enronEmails.pkl\")\n",
    "df.reset_index(inplace=True)\n",
    "hashes = np.load(\"data/enron/enronHash.npy\")"
   ]
  },
  {
   "cell_type": "code",
   "execution_count": 4,
   "metadata": {
    "collapsed": false
   },
   "outputs": [
    {
     "name": "stdout",
     "output_type": "stream",
     "text": [
      "(100000, 19)\n",
      "(100000, 100)\n"
     ]
    }
   ],
   "source": [
    "df = df.head(100000)\n",
    "hashes = hashes[0:100000,:]\n",
    "print df.shape\n",
    "print hashes.shape"
   ]
  },
  {
   "cell_type": "code",
   "execution_count": 5,
   "metadata": {
    "collapsed": true
   },
   "outputs": [],
   "source": [
    "# code from last lecture\n",
    "\n",
    "f = open('stopwords.txt')\n",
    "lines = f.readlines()\n",
    "f.close()\n",
    "\n",
    "stop_list = []\n",
    "for l in lines:\n",
    "    stop_list.append(l.strip())\n",
    "\n",
    "def make_bag(string):\n",
    "    letters_only = re.sub(\"[^a-zA-Z]\",           # The pattern to search for\n",
    "                      \" \",                   # The pattern to replace it with\n",
    "                      string )  # The text to search\n",
    "    lower_case = letters_only.lower()        # Convert to lower case\n",
    "    words = lower_case.split()               # Split into words\n",
    "    sorted_words = sorted(set(words))\n",
    "    bag = [w for w in sorted_words if not w in stop_list]\n",
    "    return bag\n",
    "\n",
    "def jaccard(a,b):\n",
    "    len_sum = len(a) + len(b)\n",
    "    len_union = len(set(a).union(set(b)))\n",
    "    len_inter = len_sum - len_union\n",
    "    return (len_inter + 0.0) / len_union\n",
    "\n",
    "\n",
    "def jaccard_emails(i,j):\n",
    "    return jaccard(make_bag(df.content[i]), make_bag(df.content[j]))\n",
    "\n",
    "def hash_word(hashnum, word):\n",
    "    hash_object = hashlib.md5(str(hashnum) + word)\n",
    "    hex_hash = hash_object.hexdigest()\n",
    "    return int(hex_hash[0:8],16)\n",
    "\n",
    "def min_hash(hashnum,bag):\n",
    "\n",
    "    return min([hash_word(hashnum,w) for w in bag])"
   ]
  },
  {
   "cell_type": "code",
   "execution_count": 6,
   "metadata": {
    "collapsed": false
   },
   "outputs": [
    {
     "ename": "SyntaxError",
     "evalue": "invalid syntax (<ipython-input-6-15b48c174146>, line 1)",
     "output_type": "error",
     "traceback": [
      "\u001b[0;36m  File \u001b[0;32m\"<ipython-input-6-15b48c174146>\"\u001b[0;36m, line \u001b[0;32m1\u001b[0m\n\u001b[0;31m    start here\u001b[0m\n\u001b[0m             ^\u001b[0m\n\u001b[0;31mSyntaxError\u001b[0m\u001b[0;31m:\u001b[0m invalid syntax\n"
     ]
    }
   ],
   "source": [
    "start here"
   ]
  },
  {
   "cell_type": "code",
   "execution_count": 7,
   "metadata": {
    "collapsed": false
   },
   "outputs": [
    {
     "name": "stdout",
     "output_type": "stream",
     "text": [
      "0.99853833969 0.004990009995\n"
     ]
    }
   ],
   "source": [
    "def prob_gr(s,g,r):\n",
    "    return 1-(1-s**g)**r\n",
    "\n",
    "g = 3\n",
    "r = 5\n",
    "print prob_gr(0.9,g,r), prob_gr(0.1,g,r)"
   ]
  },
  {
   "cell_type": "code",
   "execution_count": 12,
   "metadata": {
    "collapsed": false
   },
   "outputs": [
    {
     "name": "stdout",
     "output_type": "stream",
     "text": [
      "0.9 0.99544186551\n",
      "0.5 0.0212757912072\n"
     ]
    },
    {
     "data": {
      "text/plain": [
       "<matplotlib.text.Text at 0x127278810>"
      ]
     },
     "execution_count": 12,
     "metadata": {},
     "output_type": "execute_result"
    },
    {
     "data": {
      "image/png": "[encoded data removed]",
      "text/plain": [
       "<matplotlib.figure.Figure at 0x1276db590>"
      ]
     },
     "metadata": {},
     "output_type": "display_data"
    }
   ],
   "source": [
    "g = 9\n",
    "r = 11\n",
    "ss = np.arange(0,1,.01)\n",
    "pr = [prob_gr(s,g,r) for s in ss]\n",
    "print 0.9, prob_gr(0.9,g,r)\n",
    "print 0.5, prob_gr(0.5,g,r)\n",
    "plt.plot(ss,pr)\n",
    "plt.xlabel('similarity')\n",
    "plt.ylabel('prob of some collision')"
   ]
  },
  {
   "cell_type": "code",
   "execution_count": 13,
   "metadata": {
    "collapsed": false
   },
   "outputs": [
    {
     "data": {
      "text/plain": [
       "[(0, 1, 2), (3, 4, 5), (6, 7, 8), (9, 10, 11), (12, 13, 14)]"
      ]
     },
     "execution_count": 13,
     "metadata": {},
     "output_type": "execute_result"
    }
   ],
   "source": [
    "def group_hashes(hs, g, r):\n",
    "    return [tuple(hs[(i*g):((i+1)*g)]) for i in range(r)]\n",
    "group_hashes(np.arange(0,15),3,5)"
   ]
  },
  {
   "cell_type": "code",
   "execution_count": 14,
   "metadata": {
    "collapsed": false,
    "scrolled": true
   },
   "outputs": [
    {
     "data": {
      "text/plain": [
       "[{}, {}, {}, {}, {}, {}, {}, {}, {}, {}, {}]"
      ]
     },
     "execution_count": 14,
     "metadata": {},
     "output_type": "execute_result"
    }
   ],
   "source": [
    "def empty_lsh_table(r):\n",
    "    return [{} for i in range(r)]\n",
    "lshT = empty_lsh_table(r)\n",
    "lshT"
   ]
  },
  {
   "cell_type": "code",
   "execution_count": 15,
   "metadata": {
    "collapsed": true
   },
   "outputs": [],
   "source": [
    "def add_hash(ht, h, i):\n",
    "    if h in ht:\n",
    "        ht[h].append(i)\n",
    "    else:\n",
    "        ht[h] = [i]\n",
    "        "
   ]
  },
  {
   "cell_type": "code",
   "execution_count": 16,
   "metadata": {
    "collapsed": false
   },
   "outputs": [
    {
     "data": {
      "text/plain": [
       "array([2, 3, 0, 0, 3, 0, 4, 4, 4, 3])"
      ]
     },
     "execution_count": 16,
     "metadata": {},
     "output_type": "execute_result"
    }
   ],
   "source": [
    "x = np.random.randint(5, size=10)\n",
    "x"
   ]
  },
  {
   "cell_type": "code",
   "execution_count": 17,
   "metadata": {
    "collapsed": false
   },
   "outputs": [
    {
     "data": {
      "text/plain": [
       "{0: [2, 3, 5], 2: [0], 3: [1, 4, 9], 4: [6, 7, 8]}"
      ]
     },
     "execution_count": 17,
     "metadata": {},
     "output_type": "execute_result"
    }
   ],
   "source": [
    "ht = {}\n",
    "for i in range(10):\n",
    "    add_hash(ht, x[i], i)\n",
    "ht"
   ]
  },
  {
   "cell_type": "code",
   "execution_count": 18,
   "metadata": {
    "collapsed": false
   },
   "outputs": [],
   "source": [
    "def add_hashes(lshT, hs, i, g, r):\n",
    "    group = group_hashes(hs, g, r)\n",
    "    for j in range(r):\n",
    "        add_hash(lshT[j], group[j], i)\n",
    "        \n"
   ]
  },
  {
   "cell_type": "code",
   "execution_count": 19,
   "metadata": {
    "collapsed": false
   },
   "outputs": [],
   "source": [
    "lshT = empty_lsh_table(r)\n",
    "for i in range(len(df)):\n",
    "    add_hashes(lshT, hashes[i], i, g, r)\n"
   ]
  },
  {
   "cell_type": "code",
   "execution_count": 20,
   "metadata": {
    "collapsed": true
   },
   "outputs": [],
   "source": [
    "def lsh_lookup(lshT, i, g, r):\n",
    "    group = group_hashes(hashes[i], g, r)\n",
    "    s = set()\n",
    "    for j in range(r):\n",
    "        print set(lshT[j][group[j]])\n",
    "        s = s.union(set(lshT[j][group[j]]))\n",
    "    return s\n"
   ]
  },
  {
   "cell_type": "code",
   "execution_count": 24,
   "metadata": {
    "collapsed": false
   },
   "outputs": [
    {
     "name": "stdout",
     "output_type": "stream",
     "text": [
      "set([88449, 101, 2502, 90280, 89356, 689, 90324, 1589, 89307, 91132])\n",
      "set([88449, 88355, 101, 2502, 90280, 89356, 89260, 689, 1589, 91132, 91037, 90367])\n",
      "set([88449, 101, 2502, 90280, 89356, 689, 1589, 91132])\n",
      "set([101, 2502, 689, 90324, 1589, 89307])\n",
      "set([88449, 101, 2502, 90280, 89356, 689, 1589, 91132])\n",
      "set([88449, 101, 2502, 90280, 89356, 689, 90324, 1589, 89307, 91132])\n",
      "set([88449, 101, 2502, 90280, 89356, 689, 90324, 1589, 89307, 91132])\n",
      "set([88449, 101, 2502, 90280, 89356, 689, 90324, 1589, 89307, 91132])\n",
      "set([88449, 88355, 101, 2502, 90280, 89356, 89260, 689, 1589, 91132, 91037, 90367])\n",
      "set([689, 101, 2502, 1589])\n",
      "set([88355, 101, 2502, 89260, 689, 1589, 91037, 90367])\n"
     ]
    },
    {
     "data": {
      "text/plain": [
       "{101,\n",
       " 689,\n",
       " 1589,\n",
       " 2502,\n",
       " 88355,\n",
       " 88449,\n",
       " 89260,\n",
       " 89307,\n",
       " 89356,\n",
       " 90280,\n",
       " 90324,\n",
       " 90367,\n",
       " 91037,\n",
       " 91132}"
      ]
     },
     "execution_count": 24,
     "metadata": {},
     "output_type": "execute_result"
    }
   ],
   "source": [
    "i = 101\n",
    "s = lsh_lookup(lshT, i, g, r)\n",
    "s"
   ]
  },
  {
   "cell_type": "code",
   "execution_count": 25,
   "metadata": {
    "collapsed": false
   },
   "outputs": [
    {
     "name": "stdout",
     "output_type": "stream",
     "text": [
      "0.967741935484\n",
      "1.0\n",
      "0.967741935484\n",
      "0.89552238806\n",
      "0.89552238806\n",
      "0.899224806202\n",
      "0.899224806202\n",
      "1.0\n",
      "0.967741935484\n",
      "0.899224806202\n",
      "1.0\n",
      "1.0\n",
      "0.967741935484\n",
      "0.899224806202\n"
     ]
    }
   ],
   "source": [
    "for j in s:\n",
    "    print jaccard(make_bag(df.content[i]), make_bag(df.content[j]))"
   ]
  },
  {
   "cell_type": "code",
   "execution_count": 26,
   "metadata": {
    "collapsed": false
   },
   "outputs": [
    {
     "name": "stdout",
     "output_type": "stream",
     "text": [
      "---------------------- Forwarded by Phillip K Allen/HOU/ECT on 08/16/2000 \n",
      "10:58 AM ---------------------------\n",
      "   \n",
      "\t\n",
      "\t\n",
      "\tFrom:  David W Delainey                           08/15/2000 01:28 PM\n",
      "\t\n",
      "\n",
      "Sent by: Kay Chapman\n",
      "To: Tim Belden/HOU/ECT@ECT, Kevin M Presto/HOU/ECT@ECT, John \n",
      "Arnold/HOU/ECT@ECT, Scott Neal/HOU/ECT@ECT, Hunter S Shively/HOU/ECT@ECT, \n",
      "Phillip K Allen/HOU/ECT@ECT, Janet R Dietrich/HOU/ECT@ECT, Christopher F \n",
      "Calger/PDX/ECT@ECT, W David Duran/HOU/ECT@ECT, Raymond Bowen/HOU/ECT@ECT, \n",
      "Jeff Donahue/HOU/ECT@ECT, Brian Redmond/HOU/ECT@ECT, C John \n",
      "Thompson/Corp/Enron@ENRON, Scott Josey/Corp/Enron@ENRON, Rob \n",
      "Milnthorp/CAL/ECT@ECT, Max Yzaguirre/NA/Enron@ENRON, Beth \n",
      "Perlman/HOU/ECT@ECT, Wes Colwell/HOU/ECT@ECT, Sally Beck/HOU/ECT@ECT, David \n",
      "Oxley/HOU/ECT@ECT, Joseph Deffner/HOU/ECT@ECT, Jordan Mintz/HOU/ECT@ECT, Mark \n",
      "E Haedicke/HOU/ECT@ECT\n",
      "cc: Mollie Gustafson/PDX/ECT@ECT, Felicia Doan/HOU/ECT@ECT, Ina \n",
      "Rangel/HOU/ECT@ECT, Kimberly Brown/HOU/ECT@ECT, Airam Arteaga/HOU/ECT@ECT, \n",
      "Christy Chapman/HOU/ECT@ECT, Tina Rode/HOU/ECT@ECT, Marsha \n",
      "Schiller/HOU/ECT@ECT, Lillian Carroll/HOU/ECT@ECT, Tonai \n",
      "Lehr/Corp/Enron@ENRON, Nicole Mayer/HOU/ECT@ECT, Darlene C \n",
      "Forsyth/HOU/ECT@ECT, Janette Elbertson/HOU/ECT@ECT, Angela \n",
      "McCulloch/CAL/ECT@ECT, Pilar Cerezo/NA/Enron@ENRON, Cherylene R \n",
      "Westbrook/HOU/ECT@ECT, Shirley Tijerina/Corp/Enron@ENRON, Nicki \n",
      "Daw/NA/Enron@Enron, Kimberly Hillis/HOU/ECT@ect \n",
      "Subject: ENA Management Committee\n",
      "\n",
      "\n",
      "This is a reminder !!!!!  There will be a Friday Meeting August 18, 2000.  \n",
      "This meeting replaces the every Friday Meeting and will be held every other \n",
      "Friday.\n",
      "\n",
      "     \n",
      "    Date:  Friday August 18, 2000\n",
      "\n",
      "    Time:  2:30 pm - 4:30 pm\n",
      "\n",
      "    Location: 30C1  \n",
      " \n",
      "    Topic:   ENA Management Committee\n",
      "\n",
      "      \n",
      "\n",
      "\n",
      "If you have any questions or conflicts, please feel free to call me (3-0643) \n",
      "or Bev (3-7857).\n",
      "\n",
      "Thanks,\n",
      "\n",
      "Kay 3-0643\n"
     ]
    }
   ],
   "source": [
    "print df.content[i]"
   ]
  },
  {
   "cell_type": "code",
   "execution_count": 27,
   "metadata": {
    "collapsed": false
   },
   "outputs": [
    {
     "name": "stdout",
     "output_type": "stream",
     "text": [
      "This is it.  So sorry I left you name off.\n",
      "\n",
      "Kay\n",
      "\n",
      "\n",
      "   \n",
      "\t\n",
      "\t\n",
      "\tFrom:  David W Delainey                           08/15/2000 03:28 PM\n",
      "\t\n",
      "\n",
      "Sent by: Kay Chapman\n",
      "To: Tim Belden/HOU/ECT@ECT, Kevin M Presto/HOU/ECT@ECT, John \n",
      "Arnold/HOU/ECT@ECT, Scott Neal/HOU/ECT@ECT, Hunter S Shively/HOU/ECT@ECT, \n",
      "Phillip K Allen/HOU/ECT@ECT, Janet R Dietrich/HOU/ECT@ECT, Christopher F \n",
      "Calger/PDX/ECT@ECT, W David Duran/HOU/ECT@ECT, Raymond Bowen/HOU/ECT@ECT, \n",
      "Jeff Donahue/HOU/ECT@ECT, Brian Redmond/HOU/ECT@ECT, C John \n",
      "Thompson/Corp/Enron@ENRON, Scott Josey/Corp/Enron@ENRON, Rob \n",
      "Milnthorp/CAL/ECT@ECT, Max Yzaguirre/NA/Enron@ENRON, Beth \n",
      "Perlman/HOU/ECT@ECT, Wes Colwell/HOU/ECT@ECT, Sally Beck/HOU/ECT@ECT, David \n",
      "Oxley/HOU/ECT@ECT, Joseph Deffner/HOU/ECT@ECT, Jordan Mintz/HOU/ECT@ECT, Mark \n",
      "E Haedicke/HOU/ECT@ECT\n",
      "cc: Mollie Gustafson/PDX/ECT@ECT, Felicia Doan/HOU/ECT@ECT, Ina \n",
      "Rangel/HOU/ECT@ECT, Kimberly Brown/HOU/ECT@ECT, Airam Arteaga/HOU/ECT@ECT, \n",
      "Christy Chapman/HOU/ECT@ECT, Tina Rode/HOU/ECT@ECT, Marsha \n",
      "Schiller/HOU/ECT@ECT, Lillian Carroll/HOU/ECT@ECT, Tonai \n",
      "Lehr/Corp/Enron@ENRON, Nicole Mayer/HOU/ECT@ECT, Darlene C \n",
      "Forsyth/HOU/ECT@ECT, Janette Elbertson/HOU/ECT@ECT, Angela \n",
      "McCulloch/CAL/ECT@ECT, Pilar Cerezo/NA/Enron@ENRON, Cherylene R \n",
      "Westbrook/HOU/ECT@ECT, Shirley Tijerina/Corp/Enron@ENRON, Nicki \n",
      "Daw/NA/Enron@Enron, Kimberly Hillis/HOU/ECT@ect, Patti Thompson/HOU/ECT \n",
      "Subject: ENA Management Committee\n",
      "\n",
      "\n",
      "This is a reminder !!!!!  There will be a Friday Meeting August 18, 2000.  \n",
      "This meeting replaces the every Friday Meeting and will be held every other \n",
      "Friday.\n",
      "\n",
      "     \n",
      "    Date:  Friday August 18, 2000\n",
      "\n",
      "    Time:  2:30 pm - 4:30 pm\n",
      "\n",
      "    Location: 30C1  \n",
      " \n",
      "    Topic:   ENA Management Committee\n",
      "\n",
      "      \n",
      "\n",
      "\n",
      "If you have any questions or conflicts, please feel free to call me (3-0643) \n",
      "or Bev (3-7857).\n",
      "\n",
      "Thanks,\n",
      "\n",
      "Kay 3-0643\n",
      "\n"
     ]
    }
   ],
   "source": [
    "s = sorted(list(s))\n",
    "print df.content[s[-1]]\n"
   ]
  },
  {
   "cell_type": "code",
   "execution_count": 28,
   "metadata": {
    "collapsed": false
   },
   "outputs": [
    {
     "name": "stdout",
     "output_type": "stream",
     "text": [
      "mean :  2.1245405681\n",
      "median :  2.0\n",
      "max :  262\n",
      "sum squares :  516090\n"
     ]
    },
    {
     "data": {
      "text/plain": [
       "[<matplotlib.lines.Line2D at 0x15edfb550>]"
      ]
     },
     "execution_count": 28,
     "metadata": {},
     "output_type": "execute_result"
    },
    {
     "data": {
      "image/png": "[encoded data removed]",
      "text/plain": [
       "<matplotlib.figure.Figure at 0x127288b90>"
      ]
     },
     "metadata": {},
     "output_type": "display_data"
    }
   ],
   "source": [
    "sz = [len(v) for v in lshT[0].values()]\n",
    "print 'mean : ', np.mean(sz)\n",
    "print 'median : ', np.median(sz)\n",
    "print 'max : ', max(sz)\n",
    "print 'sum squares : ', sum(np.array(sz)**2)\n",
    "plt.plot(sorted(sz))"
   ]
  },
  {
   "cell_type": "code",
   "execution_count": 29,
   "metadata": {
    "collapsed": false
   },
   "outputs": [
    {
     "data": {
      "text/plain": [
       "5596988"
      ]
     },
     "execution_count": 29,
     "metadata": {},
     "output_type": "execute_result"
    }
   ],
   "source": [
    "ss = 0\n",
    "for j in range(r):\n",
    "    sz = [len(v) for v in lshT[j].values()]\n",
    "    ss += sum(np.array(sz)**2)\n",
    "ss"
   ]
  },
  {
   "cell_type": "code",
   "execution_count": null,
   "metadata": {
    "collapsed": true
   },
   "outputs": [],
   "source": []
  }
 ],
 "metadata": {
  "anaconda-cloud": {},
  "kernelspec": {
   "display_name": "Python [Root]",
   "language": "python",
   "name": "Python [Root]"
  },
  "language_info": {
   "codemirror_mode": {
    "name": "ipython",
    "version": 2
   },
   "file_extension": ".py",
   "mimetype": "text/x-python",
   "name": "python",
   "nbconvert_exporter": "python",
   "pygments_lexer": "ipython2",
   "version": "2.7.11"
  }
 },
 "nbformat": 4,
 "nbformat_minor": 0
}
