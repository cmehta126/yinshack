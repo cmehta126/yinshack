{
 "cells": [
  {
   "cell_type": "code",
   "execution_count": 1,
   "metadata": {
    "collapsed": true
   },
   "outputs": [],
   "source": [
    "# This is Jupyter notebook that loads the cop data\n",
    "# as a pandas dataframe\n",
    "#\n",
    "\n",
    "import matplotlib.pyplot as plt\n",
    "import pandas as pd\n",
    "import os\n",
    "import numpy as np\n",
    "\n",
    "%matplotlib inline\n",
    "\n",
    "data_folder = os.path.join(os.getcwd(), 'data')\n",
    "\n",
    "# Step 1: Import the Data\n",
    "\n",
    "# import the officer data\n",
    "officer_file = os.path.join(data_folder, 'toy.officer_data.csv')\n",
    "officer_df = pd.read_csv(officer_file)\n",
    "\n",
    "# import the complaint data\n",
    "complaint_file = os.path.join(data_folder, 'toy.complaint_data.csv')\n",
    "complaint_df = pd.read_csv(complaint_file)\n"
   ]
  },
  {
   "cell_type": "code",
   "execution_count": 2,
   "metadata": {
    "collapsed": false
   },
   "outputs": [
    {
     "data": {
      "text/html": [
       "<div style=\"max-height:1000px;max-width:1500px;overflow:auto;\">\n",
       "<table border=\"1\" class=\"dataframe\">\n",
       "  <thead>\n",
       "    <tr style=\"text-align: right;\">\n",
       "      <th></th>\n",
       "      <th>crid</th>\n",
       "      <th>incident_date</th>\n",
       "      <th>beat_2012_geocoded</th>\n",
       "      <th>complaintcategory</th>\n",
       "      <th>finalfinding</th>\n",
       "      <th>officer_id</th>\n",
       "    </tr>\n",
       "  </thead>\n",
       "  <tbody>\n",
       "    <tr>\n",
       "      <th>0</th>\n",
       "      <td> 1022797</td>\n",
       "      <td> 01-Jan-2009  0:08</td>\n",
       "      <td>NaN</td>\n",
       "      <td> 03G-MISCELLANEOUS</td>\n",
       "      <td> EX</td>\n",
       "      <td> 1</td>\n",
       "    </tr>\n",
       "    <tr>\n",
       "      <th>1</th>\n",
       "      <td> 1022797</td>\n",
       "      <td> 01-Jan-2009  0:08</td>\n",
       "      <td>NaN</td>\n",
       "      <td> 03G-MISCELLANEOUS</td>\n",
       "      <td> EX</td>\n",
       "      <td> 2</td>\n",
       "    </tr>\n",
       "    <tr>\n",
       "      <th>2</th>\n",
       "      <td> 1022797</td>\n",
       "      <td> 01-Jan-2009  0:08</td>\n",
       "      <td>NaN</td>\n",
       "      <td> 03G-MISCELLANEOUS</td>\n",
       "      <td> EX</td>\n",
       "      <td> 3</td>\n",
       "    </tr>\n",
       "    <tr>\n",
       "      <th>3</th>\n",
       "      <td> 1022797</td>\n",
       "      <td> 01-Jan-2009  0:08</td>\n",
       "      <td>NaN</td>\n",
       "      <td> 03G-MISCELLANEOUS</td>\n",
       "      <td> EX</td>\n",
       "      <td> 4</td>\n",
       "    </tr>\n",
       "    <tr>\n",
       "      <th>4</th>\n",
       "      <td> 1022797</td>\n",
       "      <td> 01-Jan-2009  0:08</td>\n",
       "      <td>NaN</td>\n",
       "      <td> 03G-MISCELLANEOUS</td>\n",
       "      <td> EX</td>\n",
       "      <td> 5</td>\n",
       "    </tr>\n",
       "  </tbody>\n",
       "</table>\n",
       "</div>"
      ],
      "text/plain": [
       "      crid      incident_date  beat_2012_geocoded  complaintcategory  \\\n",
       "0  1022797  01-Jan-2009  0:08                 NaN  03G-MISCELLANEOUS   \n",
       "1  1022797  01-Jan-2009  0:08                 NaN  03G-MISCELLANEOUS   \n",
       "2  1022797  01-Jan-2009  0:08                 NaN  03G-MISCELLANEOUS   \n",
       "3  1022797  01-Jan-2009  0:08                 NaN  03G-MISCELLANEOUS   \n",
       "4  1022797  01-Jan-2009  0:08                 NaN  03G-MISCELLANEOUS   \n",
       "\n",
       "  finalfinding  officer_id  \n",
       "0           EX           1  \n",
       "1           EX           2  \n",
       "2           EX           3  \n",
       "3           EX           4  \n",
       "4           EX           5  "
      ]
     },
     "execution_count": 2,
     "metadata": {},
     "output_type": "execute_result"
    }
   ],
   "source": [
    "# Step 2: See the Data\n",
    "\n",
    "# officer head\n",
    "officer_df.head()\n",
    "\n",
    "# complaint head\n",
    "complaint_df.head()"
   ]
  },
  {
   "cell_type": "code",
   "execution_count": 3,
   "metadata": {
    "collapsed": true
   },
   "outputs": [],
   "source": [
    "import chris_rasmus_graph_features"
   ]
  },
  {
   "cell_type": "code",
   "execution_count": 4,
   "metadata": {
    "collapsed": false
   },
   "outputs": [],
   "source": [
    "complaint_df_randtime = complaint_df.copy()"
   ]
  },
  {
   "cell_type": "code",
   "execution_count": 5,
   "metadata": {
    "collapsed": false
   },
   "outputs": [
    {
     "data": {
      "text/plain": [
       "9"
      ]
     },
     "execution_count": 5,
     "metadata": {},
     "output_type": "execute_result"
    }
   ],
   "source": [
    "np.random.randint(1,10)"
   ]
  },
  {
   "cell_type": "markdown",
   "metadata": {
    "collapsed": false
   },
   "source": [
    "for index, row in complaint_df_randtime.iterrows():\n",
    "    complaint_df_randtime.iloc[index][\"incident_date\"]  = np.random.randint(1,10)\n",
    "    "
   ]
  },
  {
   "cell_type": "code",
   "execution_count": 6,
   "metadata": {
    "collapsed": false
   },
   "outputs": [
    {
     "data": {
      "text/plain": [
       "(13840, 6)"
      ]
     },
     "execution_count": 6,
     "metadata": {},
     "output_type": "execute_result"
    }
   ],
   "source": [
    "complaint_df_randtime.shape"
   ]
  },
  {
   "cell_type": "code",
   "execution_count": 7,
   "metadata": {
    "collapsed": false
   },
   "outputs": [
    {
     "data": {
      "text/plain": [
       "array([ 0.,  0.,  0., ...,  0.,  0.,  0.])"
      ]
     },
     "execution_count": 7,
     "metadata": {},
     "output_type": "execute_result"
    }
   ],
   "source": [
    "np.zeros(13840)"
   ]
  },
  {
   "cell_type": "code",
   "execution_count": 8,
   "metadata": {
    "collapsed": true
   },
   "outputs": [],
   "source": [
    "complaint_df_randtime[\"incident_date\"] = np.zeros(13840)"
   ]
  },
  {
   "cell_type": "code",
   "execution_count": 9,
   "metadata": {
    "collapsed": false
   },
   "outputs": [
    {
     "data": {
      "text/html": [
       "<div style=\"max-height:1000px;max-width:1500px;overflow:auto;\">\n",
       "<table border=\"1\" class=\"dataframe\">\n",
       "  <thead>\n",
       "    <tr style=\"text-align: right;\">\n",
       "      <th></th>\n",
       "      <th>crid</th>\n",
       "      <th>incident_date</th>\n",
       "      <th>beat_2012_geocoded</th>\n",
       "      <th>complaintcategory</th>\n",
       "      <th>finalfinding</th>\n",
       "      <th>officer_id</th>\n",
       "    </tr>\n",
       "  </thead>\n",
       "  <tbody>\n",
       "    <tr>\n",
       "      <th>0</th>\n",
       "      <td> 1022797</td>\n",
       "      <td> 0</td>\n",
       "      <td>NaN</td>\n",
       "      <td> 03G-MISCELLANEOUS</td>\n",
       "      <td> EX</td>\n",
       "      <td> 1</td>\n",
       "    </tr>\n",
       "    <tr>\n",
       "      <th>1</th>\n",
       "      <td> 1022797</td>\n",
       "      <td> 0</td>\n",
       "      <td>NaN</td>\n",
       "      <td> 03G-MISCELLANEOUS</td>\n",
       "      <td> EX</td>\n",
       "      <td> 2</td>\n",
       "    </tr>\n",
       "    <tr>\n",
       "      <th>2</th>\n",
       "      <td> 1022797</td>\n",
       "      <td> 0</td>\n",
       "      <td>NaN</td>\n",
       "      <td> 03G-MISCELLANEOUS</td>\n",
       "      <td> EX</td>\n",
       "      <td> 3</td>\n",
       "    </tr>\n",
       "    <tr>\n",
       "      <th>3</th>\n",
       "      <td> 1022797</td>\n",
       "      <td> 0</td>\n",
       "      <td>NaN</td>\n",
       "      <td> 03G-MISCELLANEOUS</td>\n",
       "      <td> EX</td>\n",
       "      <td> 4</td>\n",
       "    </tr>\n",
       "    <tr>\n",
       "      <th>4</th>\n",
       "      <td> 1022797</td>\n",
       "      <td> 0</td>\n",
       "      <td>NaN</td>\n",
       "      <td> 03G-MISCELLANEOUS</td>\n",
       "      <td> EX</td>\n",
       "      <td> 5</td>\n",
       "    </tr>\n",
       "  </tbody>\n",
       "</table>\n",
       "</div>"
      ],
      "text/plain": [
       "      crid  incident_date  beat_2012_geocoded  complaintcategory finalfinding  \\\n",
       "0  1022797              0                 NaN  03G-MISCELLANEOUS           EX   \n",
       "1  1022797              0                 NaN  03G-MISCELLANEOUS           EX   \n",
       "2  1022797              0                 NaN  03G-MISCELLANEOUS           EX   \n",
       "3  1022797              0                 NaN  03G-MISCELLANEOUS           EX   \n",
       "4  1022797              0                 NaN  03G-MISCELLANEOUS           EX   \n",
       "\n",
       "   officer_id  \n",
       "0           1  \n",
       "1           2  \n",
       "2           3  \n",
       "3           4  \n",
       "4           5  "
      ]
     },
     "execution_count": 9,
     "metadata": {},
     "output_type": "execute_result"
    }
   ],
   "source": [
    "complaint_df_randtime.head()"
   ]
  },
  {
   "cell_type": "code",
   "execution_count": 10,
   "metadata": {
    "collapsed": true
   },
   "outputs": [],
   "source": [
    "complaint_df_randtime[\"incident_date\"] = np.random.randint(0,6,13840)"
   ]
  },
  {
   "cell_type": "code",
   "execution_count": 11,
   "metadata": {
    "collapsed": false
   },
   "outputs": [
    {
     "data": {
      "text/html": [
       "<div style=\"max-height:1000px;max-width:1500px;overflow:auto;\">\n",
       "<table border=\"1\" class=\"dataframe\">\n",
       "  <thead>\n",
       "    <tr style=\"text-align: right;\">\n",
       "      <th></th>\n",
       "      <th>crid</th>\n",
       "      <th>incident_date</th>\n",
       "      <th>beat_2012_geocoded</th>\n",
       "      <th>complaintcategory</th>\n",
       "      <th>finalfinding</th>\n",
       "      <th>officer_id</th>\n",
       "    </tr>\n",
       "  </thead>\n",
       "  <tbody>\n",
       "    <tr>\n",
       "      <th>0</th>\n",
       "      <td> 1022797</td>\n",
       "      <td> 4</td>\n",
       "      <td>NaN</td>\n",
       "      <td> 03G-MISCELLANEOUS</td>\n",
       "      <td> EX</td>\n",
       "      <td> 1</td>\n",
       "    </tr>\n",
       "    <tr>\n",
       "      <th>1</th>\n",
       "      <td> 1022797</td>\n",
       "      <td> 5</td>\n",
       "      <td>NaN</td>\n",
       "      <td> 03G-MISCELLANEOUS</td>\n",
       "      <td> EX</td>\n",
       "      <td> 2</td>\n",
       "    </tr>\n",
       "    <tr>\n",
       "      <th>2</th>\n",
       "      <td> 1022797</td>\n",
       "      <td> 2</td>\n",
       "      <td>NaN</td>\n",
       "      <td> 03G-MISCELLANEOUS</td>\n",
       "      <td> EX</td>\n",
       "      <td> 3</td>\n",
       "    </tr>\n",
       "    <tr>\n",
       "      <th>3</th>\n",
       "      <td> 1022797</td>\n",
       "      <td> 1</td>\n",
       "      <td>NaN</td>\n",
       "      <td> 03G-MISCELLANEOUS</td>\n",
       "      <td> EX</td>\n",
       "      <td> 4</td>\n",
       "    </tr>\n",
       "    <tr>\n",
       "      <th>4</th>\n",
       "      <td> 1022797</td>\n",
       "      <td> 5</td>\n",
       "      <td>NaN</td>\n",
       "      <td> 03G-MISCELLANEOUS</td>\n",
       "      <td> EX</td>\n",
       "      <td> 5</td>\n",
       "    </tr>\n",
       "  </tbody>\n",
       "</table>\n",
       "</div>"
      ],
      "text/plain": [
       "      crid  incident_date  beat_2012_geocoded  complaintcategory finalfinding  \\\n",
       "0  1022797              4                 NaN  03G-MISCELLANEOUS           EX   \n",
       "1  1022797              5                 NaN  03G-MISCELLANEOUS           EX   \n",
       "2  1022797              2                 NaN  03G-MISCELLANEOUS           EX   \n",
       "3  1022797              1                 NaN  03G-MISCELLANEOUS           EX   \n",
       "4  1022797              5                 NaN  03G-MISCELLANEOUS           EX   \n",
       "\n",
       "   officer_id  \n",
       "0           1  \n",
       "1           2  \n",
       "2           3  \n",
       "3           4  \n",
       "4           5  "
      ]
     },
     "execution_count": 11,
     "metadata": {},
     "output_type": "execute_result"
    }
   ],
   "source": [
    "complaint_df_randtime.head()"
   ]
  },
  {
   "cell_type": "code",
   "execution_count": 12,
   "metadata": {
    "collapsed": true
   },
   "outputs": [],
   "source": [
    "from chris_rasmus_graph_features  import *"
   ]
  },
  {
   "cell_type": "code",
   "execution_count": 13,
   "metadata": {
    "collapsed": false
   },
   "outputs": [],
   "source": [
    "G = build_bipartite_graph(complaint_df_randtime)"
   ]
  },
  {
   "cell_type": "code",
   "execution_count": 14,
   "metadata": {
    "collapsed": true
   },
   "outputs": [],
   "source": [
    "oids = complaint_df_randtime['officer_id'].unique()"
   ]
  },
  {
   "cell_type": "code",
   "execution_count": 15,
   "metadata": {
    "collapsed": false
   },
   "outputs": [],
   "source": [
    "oid_nbrcomp = num_of_nbr_complaints(G,oids,6)"
   ]
  },
  {
   "cell_type": "code",
   "execution_count": 19,
   "metadata": {
    "collapsed": false
   },
   "outputs": [
    {
     "data": {
      "text/plain": [
       "array([31, 28, 25, 30, 28, 26])"
      ]
     },
     "execution_count": 19,
     "metadata": {},
     "output_type": "execute_result"
    }
   ],
   "source": [
    "oid_nbrcomp[623]"
   ]
  },
  {
   "cell_type": "code",
   "execution_count": 17,
   "metadata": {
    "collapsed": false
   },
   "outputs": [],
   "source": [
    "oid_nbrcomp_pf = num_of_nbr_complaints_past_future(G,oids,6)"
   ]
  },
  {
   "cell_type": "code",
   "execution_count": 18,
   "metadata": {
    "collapsed": false
   },
   "outputs": [
    {
     "data": {
      "text/plain": [
       "array([31, 27, 21, 23, 22, 18,  0,  7, 12, 17, 21, 19])"
      ]
     },
     "execution_count": 18,
     "metadata": {},
     "output_type": "execute_result"
    }
   ],
   "source": [
    "oid_nbrcomp_pf[623]"
   ]
  },
  {
   "cell_type": "code",
   "execution_count": 20,
   "metadata": {
    "collapsed": false
   },
   "outputs": [
    {
     "data": {
      "text/plain": [
       "array([5, 2, 4, 3, 3, 2])"
      ]
     },
     "execution_count": 20,
     "metadata": {},
     "output_type": "execute_result"
    }
   ],
   "source": [
    "oid_nbrcomp[1]"
   ]
  },
  {
   "cell_type": "code",
   "execution_count": 21,
   "metadata": {
    "collapsed": false
   },
   "outputs": [
    {
     "data": {
      "text/plain": [
       "array([5, 2, 4, 3, 3, 0, 0, 0, 0, 0, 0, 2])"
      ]
     },
     "execution_count": 21,
     "metadata": {},
     "output_type": "execute_result"
    }
   ],
   "source": [
    "oid_nbrcomp_pf[1]"
   ]
  },
  {
   "cell_type": "code",
   "execution_count": null,
   "metadata": {
    "collapsed": true
   },
   "outputs": [],
   "source": [
    "oid_dc_nbrcomp = doublecount_nbr_complaints(G,oids,6)"
   ]
  },
  {
   "cell_type": "code",
   "execution_count": null,
   "metadata": {
    "collapsed": false
   },
   "outputs": [],
   "source": [
    "oid_dc_nbrcomp[623]"
   ]
  },
  {
   "cell_type": "code",
   "execution_count": null,
   "metadata": {
    "collapsed": false
   },
   "outputs": [],
   "source": [
    "oid_dc_nbrcomp_pf = dounum_of_nbr_complaints_past_future(G,oids,6)"
   ]
  },
  {
   "cell_type": "code",
   "execution_count": null,
   "metadata": {
    "collapsed": true
   },
   "outputs": [],
   "source": []
  },
  {
   "cell_type": "code",
   "execution_count": null,
   "metadata": {
    "collapsed": true
   },
   "outputs": [],
   "source": []
  }
 ],
 "metadata": {
  "anaconda-cloud": {},
  "kernelspec": {
   "display_name": "Python [conda root]",
   "language": "python",
   "name": "conda-root-py"
  },
  "language_info": {
   "codemirror_mode": {
    "name": "ipython",
    "version": 2
   },
   "file_extension": ".py",
   "mimetype": "text/x-python",
   "name": "python",
   "nbconvert_exporter": "python",
   "pygments_lexer": "ipython2",
   "version": "2.7.12"
  }
 },
 "nbformat": 4,
 "nbformat_minor": 1
}
