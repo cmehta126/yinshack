{
 "cells": [
  {
   "cell_type": "code",
   "execution_count": 2,
   "metadata": {
    "collapsed": false
   },
   "outputs": [],
   "source": [
    "import pandas as pd; import numpy as np; from datetime import timedelta; from datetime import datetime"
   ]
  },
  {
   "cell_type": "code",
   "execution_count": 3,
   "metadata": {
    "collapsed": true
   },
   "outputs": [],
   "source": [
    "# Load Data\n",
    "complaints = pd.read_csv('data/toy.complaint_data.csv'); \n",
    "officers = pd.read_csv('data/toy.officer_data.csv'); "
   ]
  },
  {
   "cell_type": "code",
   "execution_count": 4,
   "metadata": {
    "collapsed": false
   },
   "outputs": [],
   "source": [
    "def count_complaints_in_year(year, x):\n",
    "    x['year'] = pd.DatetimeIndex(x['incident_date']).year \n",
    "    x1 = x[(x.year == year)]\n",
    "    x2 = x1.groupby(['officer_id']).size()\n",
    "    return x2\n",
    "\n",
    "def add_complaints_by_year(base_year, nlags, df_complaints, df_officers):\n",
    "    Y = df_officers\n",
    "    for year in range(base_year,base_year-nlags,-1):\n",
    "        q = count_complaints_in_year(year, df_complaints).to_frame()\n",
    "        j = year-base_year\n",
    "        jstr = 'Lag%d' % j\n",
    "        q.columns = [jstr]\n",
    "        Y = Y.merge(q, left_on = 'officer_id', right_index = 1, how = 'outer')\n",
    "    Y.fillna(value = 0, inplace = True)\n",
    "    return Y\n",
    "\n",
    "\n",
    "def add_complaints_by_year_v2(base_year, nlags, df_complaints, df_officers, prefix):\n",
    "    Y = df_officers\n",
    "    for year in range(base_year,base_year-nlags,-1):\n",
    "        q = count_complaints_in_year(year, df_complaints).to_frame()\n",
    "        j = year-base_year\n",
    "        jstr = prefix + '_Lag%d' % j\n",
    "        q.columns = [jstr]\n",
    "        Y = Y.merge(q, left_on = 'officer_id', right_index = 1, how = 'outer')\n",
    "    Y.fillna(value = 0, inplace = True)\n",
    "    return Y\n",
    "\n",
    "def add_complaints_by_year_and_severity(base_year, nlags, df_complaints, df_officers):\n",
    "    Y = df_officers\n",
    "    type_labels = ['LowSeverity', 'MedSeverity','HighSeverity']\n",
    "    for severity in range(0,3,1):\n",
    "            X = df_complaints.loc[df_complaints['complaint_type'] == severity]\n",
    "            Y = add_complaints_by_year_v2(2015, nlags, X, Y, type_labels[severity]);\n",
    "    return Y\n",
    "\n",
    "def add_lag_to_complaints(df_complaints, scale_days, base_year, base_month, base_day):\n",
    "    p = timedelta(days=scale_days)\n",
    "    base_time = datetime(base_year, base_month, base_day);\n",
    "    incident_time = pd.DatetimeIndex(df_complaints['incident_date'])\n",
    "    df_complaints['LAG'] = (base_time - incident_time)/p\n",
    "    df_complaints['LAG'] = df_complaints.LAG.apply(np.floor)\n",
    "    df_complaints['LAG'] = df_complaints.LAG.apply(np.int)\n",
    "    df_complaints = df_complaints[df_complaints.LAG >= 0]\n",
    "    return(df_complaints)\n",
    "\n",
    "def add_complaint_severity(df_complaints):\n",
    "    # Identifying worst complaints.\n",
    "    df_complaints['complaintcategory_short_name'] = df_complaints['complaintcategory'].str[0:3]\n",
    "    # Identifying worst complaints.\n",
    "    worst_complaints = [\"01A\",\"01B\",\"01C\",\"03E\",\"04H\",\"05A\",\"05B\",\"05C\",\"05D\",\"05E\",\"05F\",\"05G\",\"05H\",\"05J\",\"05K\",\"05L\",\"05M\",\"05N\",\"05P\",\"05Q\",\"05T\"]\n",
    "    medium_complaints = [\"04A\",\"04B\",\"04C\",\"04D\",\"04E\",\"04F\",\"04G\",\"04J\"]\n",
    "    df_complaints['complaint_type'] = df_complaints.complaintcategory_short_name.apply(lambda x: 2 if x in worst_complaints else 1 if x in medium_complaints else 0)\n",
    "    df_complaints.drop('complaintcategory_short_name', axis=1, inplace=True)\n",
    "    return(df_complaints)"
   ]
  },
  {
   "cell_type": "code",
   "execution_count": 6,
   "metadata": {
    "collapsed": false
   },
   "outputs": [
    {
     "name": "stderr",
     "output_type": "stream",
     "text": [
      "C:\\Users\\cm953\\AppData\\Local\\Continuum\\Anaconda3\\lib\\site-packages\\ipykernel\\__main__.py:2: SettingWithCopyWarning: \n",
      "A value is trying to be set on a copy of a slice from a DataFrame.\n",
      "Try using .loc[row_indexer,col_indexer] = value instead\n",
      "\n",
      "See the caveats in the documentation: http://pandas.pydata.org/pandas-docs/stable/indexing.html#indexing-view-versus-copy\n",
      "  from ipykernel import kernelapp as app\n"
     ]
    },
    {
     "ename": "TypeError",
     "evalue": "add_complaints_by_year() missing 1 required positional argument: 'prefix'",
     "output_type": "error",
     "traceback": [
      "\u001b[0;31m---------------------------------------------------------------------------\u001b[0m",
      "\u001b[0;31mTypeError\u001b[0m                                 Traceback (most recent call last)",
      "\u001b[0;32m<ipython-input-6-3400713c3d9b>\u001b[0m in \u001b[0;36m<module>\u001b[0;34m()\u001b[0m\n\u001b[1;32m      1\u001b[0m \u001b[0mq\u001b[0m \u001b[1;33m=\u001b[0m \u001b[0madd_complaint_severity\u001b[0m\u001b[1;33m(\u001b[0m\u001b[0mcomplaints\u001b[0m\u001b[1;33m)\u001b[0m\u001b[1;33m\u001b[0m\u001b[0m\n\u001b[1;32m      2\u001b[0m \u001b[0mx\u001b[0m \u001b[1;33m=\u001b[0m \u001b[0madd_complaints_by_year_and_severity\u001b[0m\u001b[1;33m(\u001b[0m\u001b[1;36m2015\u001b[0m\u001b[1;33m,\u001b[0m\u001b[1;36m3\u001b[0m\u001b[1;33m,\u001b[0m\u001b[0mq\u001b[0m\u001b[1;33m,\u001b[0m\u001b[0mofficers\u001b[0m\u001b[1;33m)\u001b[0m\u001b[1;33m\u001b[0m\u001b[0m\n\u001b[0;32m----> 3\u001b[0;31m \u001b[0my\u001b[0m \u001b[1;33m=\u001b[0m \u001b[0madd_complaints_by_year\u001b[0m\u001b[1;33m(\u001b[0m\u001b[1;36m2015\u001b[0m\u001b[1;33m,\u001b[0m\u001b[1;36m3\u001b[0m\u001b[1;33m,\u001b[0m\u001b[0mq\u001b[0m\u001b[1;33m,\u001b[0m\u001b[0mofficers\u001b[0m\u001b[1;33m)\u001b[0m\u001b[1;33m\u001b[0m\u001b[0m\n\u001b[0m\u001b[1;32m      4\u001b[0m \u001b[0mx\u001b[0m\u001b[1;33m.\u001b[0m\u001b[0mhead\u001b[0m\u001b[1;33m(\u001b[0m\u001b[1;33m)\u001b[0m\u001b[1;33m\u001b[0m\u001b[0m\n",
      "\u001b[0;31mTypeError\u001b[0m: add_complaints_by_year() missing 1 required positional argument: 'prefix'"
     ]
    }
   ],
   "source": [
    "q = add_complaint_severity(complaints)\n",
    "x = add_complaints_by_year_and_severity(2015,3,q,officers)\n",
    "y = add_complaints_by_year(2015,3,q,officers)\n",
    "x.head()"
   ]
  },
  {
   "cell_type": "code",
   "execution_count": null,
   "metadata": {
    "collapsed": false
   },
   "outputs": [],
   "source": [
    "x.head()"
   ]
  },
  {
   "cell_type": "code",
   "execution_count": null,
   "metadata": {
    "collapsed": false
   },
   "outputs": [],
   "source": [
    "x = add_complaints_by_year_v2(2015, 2, complaints, officers, \"Severe\");\n",
    "x.head()"
   ]
  },
  {
   "cell_type": "code",
   "execution_count": null,
   "metadata": {
    "collapsed": false
   },
   "outputs": [],
   "source": [
    "# Add lag to complaints data frame.\n",
    "\n",
    "\n",
    "\n",
    "\n",
    "\n",
    "\n"
   ]
  },
  {
   "cell_type": "code",
   "execution_count": null,
   "metadata": {
    "collapsed": false
   },
   "outputs": [],
   "source": [
    "# Add lag to complaints data frame.\n",
    "x = add_lag_to_complaints(complaints, 30, 2012, 1, 1)\n",
    "x.head()\n"
   ]
  },
  {
   "cell_type": "markdown",
   "metadata": {},
   "source": [
    "#Function 'add_complaints_by_year(base_year, nlags, df_complaints, df_officers)'\n",
    "Arguments:\n",
    "\n",
    "base_year = year at which model is being fit\n",
    "\n",
    "nlags = number of lagged years (relative to base_year) over which officer's complaints are counted.\n",
    "\n",
    "df_complaints = toy-complaints dataframe\n",
    "\n",
    "df_officers = toy-officers dataframe\n"
   ]
  },
  {
   "cell_type": "code",
   "execution_count": null,
   "metadata": {
    "collapsed": false
   },
   "outputs": [],
   "source": [
    "x.head()"
   ]
  },
  {
   "cell_type": "code",
   "execution_count": null,
   "metadata": {
    "collapsed": true
   },
   "outputs": [],
   "source": [
    "r = add_complaints_by_year(2015, 12, complaints, officers)"
   ]
  },
  {
   "cell_type": "code",
   "execution_count": null,
   "metadata": {
    "collapsed": false
   },
   "outputs": [],
   "source": [
    "# Identifying worst complaints.\n",
    "complaints['complaintcategory_short_name'] = complaints['complaintcategory'].str[0:3]\n",
    "\n",
    "# Identifying worst complaints.\n",
    "worst_complaints = [\"01A\",\"01B\",\"01C\",\"03E\",\"04H\",\"05A\",\"05B\",\"05C\",\"05D\",\"05E\",\"05F\",\"05G\",\"05H\",\"05J\",\"05K\",\"05L\",\"05M\",\"05N\",\"05P\",\"05Q\",\"05T\"]\n",
    "medium_complaints = [\"04A\",\"04B\",\"04C\",\"04D\",\"04E\",\"04F\",\"04G\",\"04J\"]\n",
    "\n",
    "complaints['complaint_type'] = complaints.complaintcategory_short_name.apply(lambda x: 2 if x in worst_complaints else 1 if x in medium_complaints else 0)\n",
    "complaints.head(200)\n",
    "\n"
   ]
  },
  {
   "cell_type": "code",
   "execution_count": null,
   "metadata": {
    "collapsed": false
   },
   "outputs": [],
   "source": [
    "officers.groupby('rank').size()"
   ]
  },
  {
   "cell_type": "code",
   "execution_count": null,
   "metadata": {
    "collapsed": true
   },
   "outputs": [],
   "source": []
  }
 ],
 "metadata": {
  "anaconda-cloud": {},
  "kernelspec": {
   "display_name": "Python [conda root]",
   "language": "python",
   "name": "conda-root-py"
  },
  "language_info": {
   "codemirror_mode": {
    "name": "ipython",
    "version": 3
   },
   "file_extension": ".py",
   "mimetype": "text/x-python",
   "name": "python",
   "nbconvert_exporter": "python",
   "pygments_lexer": "ipython3",
   "version": "3.5.2"
  }
 },
 "nbformat": 4,
 "nbformat_minor": 1
}
