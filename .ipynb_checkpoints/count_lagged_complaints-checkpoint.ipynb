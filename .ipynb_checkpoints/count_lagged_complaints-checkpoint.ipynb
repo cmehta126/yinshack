{
 "cells": [
  {
   "cell_type": "code",
   "execution_count": 1,
   "metadata": {
    "collapsed": true
   },
   "outputs": [],
   "source": [
    "import pandas as pd; import numpy as np;"
   ]
  },
  {
   "cell_type": "code",
   "execution_count": 13,
   "metadata": {
    "collapsed": true
   },
   "outputs": [],
   "source": [
    "def count_complaints_in_year(year, x):\n",
    "    x['year'] = pd.DatetimeIndex(x['incident_date']).year \n",
    "    x1 = x[(x.year == year)]\n",
    "    x2 = x1.groupby(['officer_id']).size()\n",
    "    return x2\n",
    "\n",
    "def add_complaints_by_year(base_year, nlags, df_complaints, df_officers):\n",
    "    Y = df_officers\n",
    "    for year in range(base_year,base_year-nlags,-1):\n",
    "        q = count_complaints_in_year(year, df_complaints).to_frame()\n",
    "        j = year-base_year\n",
    "        jstr = 'Lag%d' % j\n",
    "        q.columns = [jstr]\n",
    "        Y = Y.merge(q, left_on = 'officer_id', right_index = 1, how = 'outer')\n",
    "    Y.fillna(value = 0, inplace = True)\n",
    "    return Y\n",
    "        "
   ]
  },
  {
   "cell_type": "code",
   "execution_count": 14,
   "metadata": {
    "collapsed": false
   },
   "outputs": [],
   "source": [
    "complaints = pd.read_csv('data/toy.complaint_data.csv'); \n",
    "officers = pd.read_csv('data/toy.officer_data.csv'); \n",
    "r = add_complaints_by_year(2015, 3, complaints, officers)"
   ]
  },
  {
   "cell_type": "code",
   "execution_count": 15,
   "metadata": {
    "collapsed": false
   },
   "outputs": [
    {
     "data": {
      "text/html": [
       "<div>\n",
       "<table border=\"1\" class=\"dataframe\">\n",
       "  <thead>\n",
       "    <tr style=\"text-align: right;\">\n",
       "      <th></th>\n",
       "      <th>first.name</th>\n",
       "      <th>last.name</th>\n",
       "      <th>appointed.date</th>\n",
       "      <th>race</th>\n",
       "      <th>gender</th>\n",
       "      <th>birth.year</th>\n",
       "      <th>age</th>\n",
       "      <th>rank</th>\n",
       "      <th>primary</th>\n",
       "      <th>secondary</th>\n",
       "      <th>tertiary</th>\n",
       "      <th>officer_id</th>\n",
       "      <th>Lag0</th>\n",
       "      <th>Lag-1</th>\n",
       "      <th>Lag-2</th>\n",
       "    </tr>\n",
       "  </thead>\n",
       "  <tbody>\n",
       "    <tr>\n",
       "      <th>0</th>\n",
       "      <td>KARINA</td>\n",
       "      <td>AARON</td>\n",
       "      <td>2005-09-26</td>\n",
       "      <td>HISPANIC</td>\n",
       "      <td>FEMALE</td>\n",
       "      <td>1980</td>\n",
       "      <td>35.0</td>\n",
       "      <td>POLICE OFFICER</td>\n",
       "      <td>0</td>\n",
       "      <td>1</td>\n",
       "      <td>0</td>\n",
       "      <td>1139</td>\n",
       "      <td>0.0</td>\n",
       "      <td>0.0</td>\n",
       "      <td>0.0</td>\n",
       "    </tr>\n",
       "    <tr>\n",
       "      <th>1</th>\n",
       "      <td>AZIZ</td>\n",
       "      <td>ABDELMAJEID</td>\n",
       "      <td>2008-04-28</td>\n",
       "      <td>A_OTHER</td>\n",
       "      <td>MALE</td>\n",
       "      <td>1984</td>\n",
       "      <td>31.0</td>\n",
       "      <td>POLICE OFFICER</td>\n",
       "      <td>0</td>\n",
       "      <td>0</td>\n",
       "      <td>1</td>\n",
       "      <td>434</td>\n",
       "      <td>0.0</td>\n",
       "      <td>0.0</td>\n",
       "      <td>0.0</td>\n",
       "    </tr>\n",
       "    <tr>\n",
       "      <th>2</th>\n",
       "      <td>JENNIFER</td>\n",
       "      <td>ACCARDO</td>\n",
       "      <td>2004-11-29</td>\n",
       "      <td>WHITE</td>\n",
       "      <td>FEMALE</td>\n",
       "      <td>1979</td>\n",
       "      <td>37.0</td>\n",
       "      <td>POLICE OFFICER</td>\n",
       "      <td>0</td>\n",
       "      <td>0</td>\n",
       "      <td>1</td>\n",
       "      <td>2515</td>\n",
       "      <td>0.0</td>\n",
       "      <td>0.0</td>\n",
       "      <td>0.0</td>\n",
       "    </tr>\n",
       "  </tbody>\n",
       "</table>\n",
       "</div>"
      ],
      "text/plain": [
       "  first.name    last.name appointed.date      race  gender  birth.year   age  \\\n",
       "0     KARINA        AARON     2005-09-26  HISPANIC  FEMALE        1980  35.0   \n",
       "1       AZIZ  ABDELMAJEID     2008-04-28   A_OTHER    MALE        1984  31.0   \n",
       "2   JENNIFER      ACCARDO     2004-11-29     WHITE  FEMALE        1979  37.0   \n",
       "\n",
       "             rank  primary  secondary  tertiary  officer_id  Lag0  Lag-1  \\\n",
       "0  POLICE OFFICER        0          1         0        1139   0.0    0.0   \n",
       "1  POLICE OFFICER        0          0         1         434   0.0    0.0   \n",
       "2  POLICE OFFICER        0          0         1        2515   0.0    0.0   \n",
       "\n",
       "   Lag-2  \n",
       "0    0.0  \n",
       "1    0.0  \n",
       "2    0.0  "
      ]
     },
     "execution_count": 15,
     "metadata": {},
     "output_type": "execute_result"
    }
   ],
   "source": []
  },
  {
   "cell_type": "code",
   "execution_count": 11,
   "metadata": {
    "collapsed": false
   },
   "outputs": [],
   "source": [
    "r.fillna(value = 0, inplace = True)"
   ]
  },
  {
   "cell_type": "code",
   "execution_count": 12,
   "metadata": {
    "collapsed": false
   },
   "outputs": [
    {
     "data": {
      "text/html": [
       "<div>\n",
       "<table border=\"1\" class=\"dataframe\">\n",
       "  <thead>\n",
       "    <tr style=\"text-align: right;\">\n",
       "      <th></th>\n",
       "      <th>first.name</th>\n",
       "      <th>last.name</th>\n",
       "      <th>appointed.date</th>\n",
       "      <th>race</th>\n",
       "      <th>gender</th>\n",
       "      <th>birth.year</th>\n",
       "      <th>age</th>\n",
       "      <th>rank</th>\n",
       "      <th>primary</th>\n",
       "      <th>secondary</th>\n",
       "      <th>tertiary</th>\n",
       "      <th>officer_id</th>\n",
       "      <th>Lag0</th>\n",
       "      <th>Lag-1</th>\n",
       "      <th>Lag-2</th>\n",
       "    </tr>\n",
       "  </thead>\n",
       "  <tbody>\n",
       "    <tr>\n",
       "      <th>0</th>\n",
       "      <td>KARINA</td>\n",
       "      <td>AARON</td>\n",
       "      <td>2005-09-26</td>\n",
       "      <td>HISPANIC</td>\n",
       "      <td>FEMALE</td>\n",
       "      <td>1980</td>\n",
       "      <td>35.0</td>\n",
       "      <td>POLICE OFFICER</td>\n",
       "      <td>0</td>\n",
       "      <td>1</td>\n",
       "      <td>0</td>\n",
       "      <td>1139</td>\n",
       "      <td>0.0</td>\n",
       "      <td>0.0</td>\n",
       "      <td>0.0</td>\n",
       "    </tr>\n",
       "    <tr>\n",
       "      <th>1</th>\n",
       "      <td>AZIZ</td>\n",
       "      <td>ABDELMAJEID</td>\n",
       "      <td>2008-04-28</td>\n",
       "      <td>A_OTHER</td>\n",
       "      <td>MALE</td>\n",
       "      <td>1984</td>\n",
       "      <td>31.0</td>\n",
       "      <td>POLICE OFFICER</td>\n",
       "      <td>0</td>\n",
       "      <td>0</td>\n",
       "      <td>1</td>\n",
       "      <td>434</td>\n",
       "      <td>0.0</td>\n",
       "      <td>0.0</td>\n",
       "      <td>0.0</td>\n",
       "    </tr>\n",
       "    <tr>\n",
       "      <th>2</th>\n",
       "      <td>JENNIFER</td>\n",
       "      <td>ACCARDO</td>\n",
       "      <td>2004-11-29</td>\n",
       "      <td>WHITE</td>\n",
       "      <td>FEMALE</td>\n",
       "      <td>1979</td>\n",
       "      <td>37.0</td>\n",
       "      <td>POLICE OFFICER</td>\n",
       "      <td>0</td>\n",
       "      <td>0</td>\n",
       "      <td>1</td>\n",
       "      <td>2515</td>\n",
       "      <td>0.0</td>\n",
       "      <td>0.0</td>\n",
       "      <td>0.0</td>\n",
       "    </tr>\n",
       "  </tbody>\n",
       "</table>\n",
       "</div>"
      ],
      "text/plain": [
       "  first.name    last.name appointed.date      race  gender  birth.year   age  \\\n",
       "0     KARINA        AARON     2005-09-26  HISPANIC  FEMALE        1980  35.0   \n",
       "1       AZIZ  ABDELMAJEID     2008-04-28   A_OTHER    MALE        1984  31.0   \n",
       "2   JENNIFER      ACCARDO     2004-11-29     WHITE  FEMALE        1979  37.0   \n",
       "\n",
       "             rank  primary  secondary  tertiary  officer_id  Lag0  Lag-1  \\\n",
       "0  POLICE OFFICER        0          1         0        1139   0.0    0.0   \n",
       "1  POLICE OFFICER        0          0         1         434   0.0    0.0   \n",
       "2  POLICE OFFICER        0          0         1        2515   0.0    0.0   \n",
       "\n",
       "   Lag-2  \n",
       "0    0.0  \n",
       "1    0.0  \n",
       "2    0.0  "
      ]
     },
     "execution_count": 12,
     "metadata": {},
     "output_type": "execute_result"
    }
   ],
   "source": [
    "r.head(3)"
   ]
  },
  {
   "cell_type": "code",
   "execution_count": null,
   "metadata": {
    "collapsed": true
   },
   "outputs": [],
   "source": []
  }
 ],
 "metadata": {
  "kernelspec": {
   "display_name": "Python [conda root]",
   "language": "python",
   "name": "conda-root-py"
  },
  "language_info": {
   "codemirror_mode": {
    "name": "ipython",
    "version": 3
   },
   "file_extension": ".py",
   "mimetype": "text/x-python",
   "name": "python",
   "nbconvert_exporter": "python",
   "pygments_lexer": "ipython3",
   "version": "3.5.2"
  }
 },
 "nbformat": 4,
 "nbformat_minor": 1
}
