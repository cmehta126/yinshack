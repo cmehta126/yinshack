{
 "cells": [
  {
   "cell_type": "code",
   "execution_count": 1,
   "metadata": {
    "collapsed": false
   },
   "outputs": [],
   "source": [
    "import numpy as np\n",
    "import pandas as pd\n",
    "from sklearn.preprocessing import LabelEncoder\n",
    "from sklearn import linear_model\n",
    "from sklearn.cross_validation import LeaveOneOut, cross_val_predict\n",
    "import matplotlib.pyplot as plt\n",
    "from sklearn.metrics import mean_squared_error\n",
    "\n",
    "\n",
    "from sklearn.ensemble import GradientBoostingClassifier, GradientBoostingRegressor, RandomForestRegressor\n",
    "from sklearn.svm import SVR\n",
    "\n",
    "\n",
    "\n",
    "\n",
    "from count_lagged_complaints import *\n",
    "from chris_rasmus_graph_features import *\n",
    "\n",
    "from processing import *\n",
    "%matplotlib inline"
   ]
  },
  {
   "cell_type": "code",
   "execution_count": 2,
   "metadata": {
    "collapsed": true
   },
   "outputs": [],
   "source": [
    "offc = pd.read_csv('/Users/Mehraveh/Desktop/policy_lab/toy.officer_data.csv',sep=',')\n",
    "cmpl = pd.read_csv('/Users/Mehraveh/Desktop/policy_lab/toy.complaint_data.csv', sep=',')"
   ]
  },
  {
   "cell_type": "code",
   "execution_count": null,
   "metadata": {
    "collapsed": false
   },
   "outputs": [
    {
     "name": "stderr",
     "output_type": "stream",
     "text": [
      "/Users/Mehraveh/Desktop/yins-datahack-2017/processing.py:7: SettingWithCopyWarning: \n",
      "A value is trying to be set on a copy of a slice from a DataFrame.\n",
      "Try using .loc[row_indexer,col_indexer] = value instead\n",
      "\n",
      "See the caveats in the documentation: http://pandas.pydata.org/pandas-docs/stable/indexing.html#indexing-view-versus-copy\n",
      "  x['year'] = pd.DatetimeIndex(x['incident_date']).year\n"
     ]
    }
   ],
   "source": [
    "scale_days = 365\n",
    "last_train_year = 2012\n",
    "base_year = last_train_year\n",
    "base_month = 12\n",
    "base_day = 31\n",
    "lag_max = 4\n",
    "deg_thresh = 5\n",
    "\n",
    "cmpl_severity = add_complaint_severity(cmpl)\n",
    "r = add_complaints_by_year_and_severity(last_train_year, lag_max, cmpl_severity, offc) "
   ]
  },
  {
   "cell_type": "markdown",
   "metadata": {},
   "source": [
    "Adding graph features"
   ]
  },
  {
   "cell_type": "code",
   "execution_count": null,
   "metadata": {
    "collapsed": true
   },
   "outputs": [],
   "source": [
    "complaint_df = add_lag_to_complaints(cmpl_severity, scale_days, base_year, base_month, base_day)\n",
    "\n",
    "\n",
    "# build bipartite graph\n",
    "G = build_bipartite_graph(complaint_df)\n",
    "officer_ids = offc['officer_id'].unique()\n",
    "\n",
    "\n",
    "# get feature dictionaries\n",
    "num_nbr_complaints_dict = num_of_nbr_complaints(G, officer_ids, lag_max)\n",
    "num_high_offenders = num_high_offender_nbrs(G, officer_ids, deg_thresh)\n",
    "num_nbr_complaints_dict_pf = num_of_nbr_complaints_past_future(G, officer_ids, lag_max)\n"
   ]
  },
  {
   "cell_type": "code",
   "execution_count": null,
   "metadata": {
    "collapsed": false
   },
   "outputs": [],
   "source": [
    "A=pd.DataFrame(dict([(k,pd.Series(v)) for k,v in num_nbr_complaints_dict.items()])).transpose()\n",
    "A.columns = ['cmpl0','cmpl1','cmpl2','cmpl3']\n",
    "\n",
    "B=pd.DataFrame(dict([(k,pd.Series(v)) for k,v in num_high_offenders.items()])).transpose() \n",
    "B.columns = ['num_high_offndr']\n",
    "C=pd.DataFrame(dict([(k,pd.Series(v)) for k,v in num_nbr_complaints_dict_pf.items()])).transpose()\n",
    "C.columns = ['cmpl0_p','cmpl1_p','cmpl2_p','cmpl3_p','cmpl0_f','cmpl1_f','cmpl2_f','cmpl3_f']\n",
    "\n",
    "\n",
    "r_A = r.merge(A, left_on = 'officer_id', right_index = 1, how = 'outer')\n",
    "r_AB = r_A.merge(B, left_on = 'officer_id', right_index = 1, how = 'outer')\n",
    "r_AB = r_AB.fillna(0);\n",
    "r_C = r_AB.merge(C, left_on = 'officer_id', right_index = 1, how = 'outer')\n",
    "r_C.head()\n",
    "r_C.columns"
   ]
  },
  {
   "cell_type": "markdown",
   "metadata": {},
   "source": [
    "Generating feature matrix"
   ]
  },
  {
   "cell_type": "code",
   "execution_count": null,
   "metadata": {
    "collapsed": false
   },
   "outputs": [],
   "source": [
    "# Making X vector (features)\n",
    "# X = r_AB\n",
    "X=r_C\n",
    "\n",
    "#Dropping \"FirstName\", \"LastName\", \"BirthYear\",\"Rank\"\n",
    "X = X.drop(X.columns[[0,1,5,7,11]], axis=1)\n",
    "# Getting years from apponted dates and normalizing\n",
    "# temp = X[X.columns[0]].astype(str).str[0:4].astype(int)\n",
    "# X[X.columns[0]] = (temp-np.mean(temp))/np.std(temp)\n",
    "X[X.columns[0]] = X[X.columns[0]].astype(str).str[0:4].astype(int)\n",
    "\n",
    "\n",
    "#Encoding categorical variables\n",
    "X_cat = X[X.columns[[1,2]]]\n",
    "XX=X_cat.apply(LabelEncoder().fit_transform)\n",
    "X[X.columns[[1,2]]] = XX\n",
    "np.where(np.isnan(X))\n",
    "X_race = pd.get_dummies(X['race'])\n",
    "X_race.columns = ['race0','race1','race2','race3']\n",
    "X = X.drop(X.columns[[1]], axis=1)\n",
    "X = X.join(X_race, how='outer')\n",
    "\n",
    "X.head()\n",
    "X.columns"
   ]
  },
  {
   "cell_type": "markdown",
   "metadata": {},
   "source": [
    "Generating output vector"
   ]
  },
  {
   "cell_type": "code",
   "execution_count": null,
   "metadata": {
    "collapsed": false,
    "scrolled": false
   },
   "outputs": [],
   "source": [
    "# Making Y vector\n",
    "\n",
    "Y = add_complaints_by_year(2015, 2, cmpl, offc) \n",
    "Y=Y[[Y.columns[Y.shape[1]-1],Y.columns[Y.shape[1]-2]]]\n",
    "Y=Y.sum(axis=1)"
   ]
  },
  {
   "cell_type": "code",
   "execution_count": 9,
   "metadata": {
    "collapsed": false
   },
   "outputs": [
    {
     "data": {
      "text/plain": [
       "0       0.0\n",
       "1       0.0\n",
       "2       0.0\n",
       "3       0.0\n",
       "4       1.0\n",
       "5       1.0\n",
       "6       0.0\n",
       "7       0.0\n",
       "8       0.0\n",
       "9       1.0\n",
       "10      0.0\n",
       "11      3.0\n",
       "12      0.0\n",
       "13      0.0\n",
       "14      0.0\n",
       "15      0.0\n",
       "16      0.0\n",
       "17      0.0\n",
       "18      1.0\n",
       "19      0.0\n",
       "20      0.0\n",
       "21      0.0\n",
       "22      0.0\n",
       "23      0.0\n",
       "24      0.0\n",
       "25      0.0\n",
       "26      2.0\n",
       "27      2.0\n",
       "28      0.0\n",
       "29      0.0\n",
       "       ... \n",
       "3854    1.0\n",
       "3855    0.0\n",
       "3856    0.0\n",
       "3857    0.0\n",
       "3858    1.0\n",
       "3859    0.0\n",
       "3860    2.0\n",
       "3861    0.0\n",
       "3862    1.0\n",
       "3863    0.0\n",
       "3864    4.0\n",
       "3865    0.0\n",
       "3866    0.0\n",
       "3867    0.0\n",
       "3868    0.0\n",
       "3869    2.0\n",
       "3870    0.0\n",
       "3871    2.0\n",
       "3872    0.0\n",
       "3873    1.0\n",
       "3874    2.0\n",
       "3875    3.0\n",
       "3876    0.0\n",
       "3877    0.0\n",
       "3878    0.0\n",
       "3879    0.0\n",
       "3880    1.0\n",
       "3881    0.0\n",
       "3882    1.0\n",
       "3883    0.0\n",
       "dtype: float64"
      ]
     },
     "execution_count": 9,
     "metadata": {},
     "output_type": "execute_result"
    }
   ],
   "source": [
    "Y"
   ]
  },
  {
   "cell_type": "code",
   "execution_count": 12,
   "metadata": {
    "collapsed": false
   },
   "outputs": [
    {
     "data": {
      "text/plain": [
       "0       0.0\n",
       "1       0.0\n",
       "2       0.0\n",
       "3       0.0\n",
       "4       1.0\n",
       "5       0.0\n",
       "6       0.0\n",
       "7       0.0\n",
       "8       0.0\n",
       "9       0.0\n",
       "10      0.0\n",
       "11      3.0\n",
       "12      0.0\n",
       "13      0.0\n",
       "14      0.0\n",
       "15      0.0\n",
       "16      0.0\n",
       "17      0.0\n",
       "18      0.0\n",
       "19      0.0\n",
       "20      0.0\n",
       "21      0.0\n",
       "22      0.0\n",
       "23      0.0\n",
       "24      0.0\n",
       "25      0.0\n",
       "26      2.0\n",
       "27      0.0\n",
       "28      0.0\n",
       "29      0.0\n",
       "       ... \n",
       "3854    0.0\n",
       "3855    0.0\n",
       "3856    0.0\n",
       "3857    0.0\n",
       "3858    0.0\n",
       "3859    0.0\n",
       "3860    1.0\n",
       "3861    0.0\n",
       "3862    1.0\n",
       "3863    0.0\n",
       "3864    2.0\n",
       "3865    0.0\n",
       "3866    0.0\n",
       "3867    0.0\n",
       "3868    0.0\n",
       "3869    0.0\n",
       "3870    0.0\n",
       "3871    1.0\n",
       "3872    0.0\n",
       "3873    0.0\n",
       "3874    2.0\n",
       "3875    3.0\n",
       "3876    0.0\n",
       "3877    0.0\n",
       "3878    0.0\n",
       "3879    0.0\n",
       "3880    0.0\n",
       "3881    0.0\n",
       "3882    0.0\n",
       "3883    0.0\n",
       "Name: LowSeverity_Lag-1, dtype: float64"
      ]
     },
     "execution_count": 12,
     "metadata": {},
     "output_type": "execute_result"
    }
   ],
   "source": [
    "X['LowSeverity_Lag-1']"
   ]
  },
  {
   "cell_type": "code",
   "execution_count": 15,
   "metadata": {
    "collapsed": false
   },
   "outputs": [
    {
     "name": "stderr",
     "output_type": "stream",
     "text": [
      "/Users/Mehraveh/anaconda/lib/python3.5/site-packages/pandas/indexes/base.py:2397: RuntimeWarning: unorderable types: str() < int(), sort order is undefined for incomparable objects\n",
      "  return this.join(other, how=how, return_indexers=return_indexers)\n"
     ]
    },
    {
     "ename": "TypeError",
     "evalue": "unsupported operand type(s) for +: 'int' and 'str'",
     "output_type": "error",
     "traceback": [
      "\u001b[0;31m---------------------------------------------------------------------------\u001b[0m",
      "\u001b[0;31mTypeError\u001b[0m                                 Traceback (most recent call last)",
      "\u001b[0;32m<ipython-input-15-c21131d40091>\u001b[0m in \u001b[0;36m<module>\u001b[0;34m()\u001b[0m\n\u001b[0;32m----> 1\u001b[0;31m \u001b[0msum\u001b[0m\u001b[0;34m(\u001b[0m\u001b[0mX\u001b[0m\u001b[0;34m-\u001b[0m\u001b[0mY\u001b[0m\u001b[0;34m)\u001b[0m\u001b[0;34m\u001b[0m\u001b[0m\n\u001b[0m",
      "\u001b[0;31mTypeError\u001b[0m: unsupported operand type(s) for +: 'int' and 'str'"
     ]
    }
   ],
   "source": [
    "sum(X)"
   ]
  },
  {
   "cell_type": "markdown",
   "metadata": {},
   "source": [
    "Predictive models"
   ]
  },
  {
   "cell_type": "code",
   "execution_count": 6,
   "metadata": {
    "collapsed": false
   },
   "outputs": [
    {
     "name": "stdout",
     "output_type": "stream",
     "text": [
      "1.0\n"
     ]
    },
    {
     "data": {
      "image/png": "[encoded data removed]",
      "text/plain": [
       "<matplotlib.figure.Figure at 0x105a499b0>"
      ]
     },
     "metadata": {},
     "output_type": "display_data"
    }
   ],
   "source": [
    "# LINEAR model\n",
    "\n",
    "\n",
    "clf = linear_model.LinearRegression()\n",
    "predicts = cross_val_predict(clf, X, Y, cv=3)\n",
    "\n",
    "# clf.fit(X,Y)\n",
    "# predicts = clf.predict(X)\n",
    "\n",
    "plt.scatter(Y,predicts, s=100)\n",
    "mean_squared_error(Y, predicts)\n",
    "correlation = np.corrcoef(Y, predicts)[0,1]\n",
    "print(correlation)"
   ]
  },
  {
   "cell_type": "code",
   "execution_count": null,
   "metadata": {
    "collapsed": false
   },
   "outputs": [],
   "source": [
    "# GBM\n",
    "\n",
    "clf = GradientBoostingRegressor(n_estimators=500,learning_rate=0.05,min_samples_split=5,\n",
    "        min_samples_leaf=15,max_depth=5,max_features='sqrt',random_state=12,\n",
    "        subsample =0.8,verbose=0,warm_start = True)\n",
    "\n",
    "predicts = cross_val_predict(clf, X, Y, cv=3)\n",
    "\n",
    "# clf.fit(X,Y)\n",
    "# predicts = clf.predict(X)\n",
    "\n",
    "mean_squared_error(Y, predicts)\n",
    "plt.plot(Y,predicts,'*')\n",
    "correlation = np.corrcoef(Y, predicts)[0,1]\n",
    "print(correlation)\n",
    "\n",
    "# clf.fit(X,Y)\n",
    "# imp = clf.feature_importances_\n"
   ]
  },
  {
   "cell_type": "code",
   "execution_count": null,
   "metadata": {
    "collapsed": false
   },
   "outputs": [],
   "source": [
    "plt.bar(np.arange(0,np.shape(X)[1]),imp)"
   ]
  },
  {
   "cell_type": "code",
   "execution_count": null,
   "metadata": {
    "collapsed": false
   },
   "outputs": [],
   "source": [
    "clf = RandomForestRegressor(n_estimators=100)\n",
    "predicts = cross_val_predict(clf, X, Y, cv=3)\n",
    "\n",
    "# clf.fit(X,Y)\n",
    "# predicts = clf.predict(X)\n",
    "\n",
    "mean_squared_error(Y, predicts)\n",
    "plt.plot(Y,predicts,'*')\n",
    "correlation = np.corrcoef(Y, predicts)[0,1]\n",
    "print(correlation)\n",
    "\n",
    "clf.fit(X,Y)\n",
    "imp = clf.feature_importances_\n"
   ]
  },
  {
   "cell_type": "code",
   "execution_count": null,
   "metadata": {
    "collapsed": false
   },
   "outputs": [],
   "source": [
    "clf = SVR(kernel='rbf', degree=3, gamma='auto')\n",
    "\n",
    "predicts = cross_val_predict(clf, X, Y, cv=3)\n",
    "\n",
    "#clf.fit(X2,Y)\n",
    "#predicts = clf.predict(X2)\n",
    "\n",
    "mean_squared_error(Y, predicts)\n",
    "plt.plot(Y,predicts,'*')\n",
    "correlation = np.corrcoef(Y, predicts)[0,1]\n",
    "print(correlation)"
   ]
  },
  {
   "cell_type": "code",
   "execution_count": null,
   "metadata": {
    "collapsed": true
   },
   "outputs": [],
   "source": []
  }
 ],
 "metadata": {
  "kernelspec": {
   "display_name": "Python 3",
   "language": "python",
   "name": "python3"
  },
  "language_info": {
   "codemirror_mode": {
    "name": "ipython",
    "version": 3
   },
   "file_extension": ".py",
   "mimetype": "text/x-python",
   "name": "python",
   "nbconvert_exporter": "python",
   "pygments_lexer": "ipython3",
   "version": "3.5.1"
  }
 },
 "nbformat": 4,
 "nbformat_minor": 0
}
