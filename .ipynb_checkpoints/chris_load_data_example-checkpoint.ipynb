{
 "cells": [
  {
   "cell_type": "code",
   "execution_count": 10,
   "metadata": {
    "collapsed": false,
    "scrolled": true
   },
   "outputs": [
    {
     "name": "stdout",
     "output_type": "stream",
     "text": [
      "There are 13840 complaints and 79 officers\n"
     ]
    }
   ],
   "source": [
    "# This is Jupyter notebook that loads the cop data\n",
    "# as a pandas dataframe\n",
    "#\n",
    "\n",
    "import pandas as pd\n",
    "import os\n",
    "\n",
    "data_folder = os.path.join(os.getcwd(), 'data')\n",
    "\n",
    "# import the officer data\n",
    "officer_file = os.path.join(data_folder, 'toy.officer_data.csv')\n",
    "officer_df = pd.read_csv(officer_file)\n",
    "\n",
    "# import the complaint data\n",
    "complaint_file = os.path.join(data_folder, 'toy.complaint_data.csv')\n",
    "complaint_df = pd.read_csv(complaint_file)\n"
   ]
  },
  {
   "cell_type": "code",
   "execution_count": 16,
   "metadata": {
    "collapsed": false
   },
   "outputs": [
    {
     "data": {
      "text/html": [
       "<div>\n",
       "<table border=\"1\" class=\"dataframe\">\n",
       "  <thead>\n",
       "    <tr style=\"text-align: right;\">\n",
       "      <th></th>\n",
       "      <th>crid</th>\n",
       "      <th>incident_date</th>\n",
       "      <th>beat_2012_geocoded</th>\n",
       "      <th>complaintcategory</th>\n",
       "      <th>finalfinding</th>\n",
       "      <th>officer_id</th>\n",
       "    </tr>\n",
       "  </thead>\n",
       "  <tbody>\n",
       "    <tr>\n",
       "      <th>0</th>\n",
       "      <td>1022797</td>\n",
       "      <td>01-Jan-2009  0:08</td>\n",
       "      <td>NaN</td>\n",
       "      <td>03G-MISCELLANEOUS</td>\n",
       "      <td>EX</td>\n",
       "      <td>1</td>\n",
       "    </tr>\n",
       "    <tr>\n",
       "      <th>1</th>\n",
       "      <td>1022797</td>\n",
       "      <td>01-Jan-2009  0:08</td>\n",
       "      <td>NaN</td>\n",
       "      <td>03G-MISCELLANEOUS</td>\n",
       "      <td>EX</td>\n",
       "      <td>2</td>\n",
       "    </tr>\n",
       "    <tr>\n",
       "      <th>2</th>\n",
       "      <td>1022797</td>\n",
       "      <td>01-Jan-2009  0:08</td>\n",
       "      <td>NaN</td>\n",
       "      <td>03G-MISCELLANEOUS</td>\n",
       "      <td>EX</td>\n",
       "      <td>3</td>\n",
       "    </tr>\n",
       "    <tr>\n",
       "      <th>3</th>\n",
       "      <td>1022797</td>\n",
       "      <td>01-Jan-2009  0:08</td>\n",
       "      <td>NaN</td>\n",
       "      <td>03G-MISCELLANEOUS</td>\n",
       "      <td>EX</td>\n",
       "      <td>4</td>\n",
       "    </tr>\n",
       "    <tr>\n",
       "      <th>4</th>\n",
       "      <td>1022797</td>\n",
       "      <td>01-Jan-2009  0:08</td>\n",
       "      <td>NaN</td>\n",
       "      <td>03G-MISCELLANEOUS</td>\n",
       "      <td>EX</td>\n",
       "      <td>5</td>\n",
       "    </tr>\n",
       "  </tbody>\n",
       "</table>\n",
       "</div>"
      ],
      "text/plain": [
       "      crid      incident_date  beat_2012_geocoded  complaintcategory  \\\n",
       "0  1022797  01-Jan-2009  0:08                 NaN  03G-MISCELLANEOUS   \n",
       "1  1022797  01-Jan-2009  0:08                 NaN  03G-MISCELLANEOUS   \n",
       "2  1022797  01-Jan-2009  0:08                 NaN  03G-MISCELLANEOUS   \n",
       "3  1022797  01-Jan-2009  0:08                 NaN  03G-MISCELLANEOUS   \n",
       "4  1022797  01-Jan-2009  0:08                 NaN  03G-MISCELLANEOUS   \n",
       "\n",
       "  finalfinding  officer_id  \n",
       "0           EX           1  \n",
       "1           EX           2  \n",
       "2           EX           3  \n",
       "3           EX           4  \n",
       "4           EX           5  "
      ]
     },
     "execution_count": 16,
     "metadata": {},
     "output_type": "execute_result"
    }
   ],
   "source": [
    "# officer head\n",
    "pd.DataFrame.head(officer_df)\n",
    "\n",
    "# complaint head\n",
    "pd.DataFrame.head(complaint_df)"
   ]
  },
  {
   "cell_type": "code",
   "execution_count": null,
   "metadata": {
    "collapsed": true
   },
   "outputs": [],
   "source": []
  }
 ],
 "metadata": {
  "anaconda-cloud": {},
  "kernelspec": {
   "display_name": "Python [Root]",
   "language": "python",
   "name": "Python [Root]"
  },
  "language_info": {
   "codemirror_mode": {
    "name": "ipython",
    "version": 2
   },
   "file_extension": ".py",
   "mimetype": "text/x-python",
   "name": "python",
   "nbconvert_exporter": "python",
   "pygments_lexer": "ipython2",
   "version": "2.7.11"
  }
 },
 "nbformat": 4,
 "nbformat_minor": 0
}
