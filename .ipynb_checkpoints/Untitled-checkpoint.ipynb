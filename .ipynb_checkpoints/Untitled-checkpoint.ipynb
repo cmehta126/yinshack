{
 "cells": [
  {
   "cell_type": "code",
   "execution_count": 1,
   "metadata": {
    "collapsed": false
   },
   "outputs": [
    {
     "name": "stdout",
     "output_type": "stream",
     "text": [
      "Once deleted, variables cannot be recovered. Proceed (y/[n])? y\n"
     ]
    }
   ],
   "source": [
    "%reset\n",
    "import numpy as np\n",
    "from sklearn import svm\n",
    "from sklearn.metrics import zero_one_loss\n",
    "from sklearn import linear_model\n",
    "from sklearn.linear_model import LogisticRegression, LogisticRegressionCV\n",
    "from sklearn.cross_validation import cross_val_score\n",
    "\n",
    "\n",
    "\n",
    "# load the STL-10 crime data into Python. you need to first\n",
    "# download these from here:\n",
    "#    http://euler.stat.yale.edu/~tba3/class_data/stl10\n",
    "\n",
    "#cmpl = np.loadtxt('/Users/Mehraveh/Desktop/policy_lab/example.complaint_data.csv', delimiter=',')\n",
    "#offc = np.genfromtxt('/Users/Mehraveh/Desktop/policy_lab/example.officer_data.csv', delimiter=',', dtype='str')\n",
    "\n",
    "import pandas as pd\n",
    "offc = pd.read_csv('/Users/Mehraveh/Desktop/policy_lab/example.officer_data.csv',sep=',')\n",
    "cmpl = pd.read_csv('/Users/Mehraveh/Desktop/policy_lab/example.complaint_data.csv', sep=',')\n",
    "\n",
    "\n"
   ]
  },
  {
   "cell_type": "code",
   "execution_count": null,
   "metadata": {
    "collapsed": true
   },
   "outputs": [],
   "source": [
    "%reset\n",
    "import numpy as np\n",
    "from sklearn import svm\n",
    "from sklearn.metrics import zero_one_loss\n",
    "from sklearn import linear_model\n",
    "from sklearn.linear_model import LogisticRegression, LogisticRegressionCV\n",
    "from sklearn.cross_validation import cross_val_score\n",
    "\n",
    "from keras.models import Sequential\n",
    "from keras.layers.core import Dense, Dropout, Activation\n",
    "from keras.optimizers import SGD, RMSprop\n",
    "from keras.layers.normalization import BatchNormalization\n",
    "from keras.utils import np_utils\n",
    "from keras.regularizers import l2\n",
    "from keras.layers.convolutional import Convolution2D, MaxPooling2D\n",
    "from keras.callbacks import EarlyStopping\n",
    "from keras.preprocessing.image import ImageDataGenerator\n",
    "\n",
    "\n",
    "\n",
    "# load the STL-10 crime data into Python. you need to first\n",
    "# download these from here:\n",
    "#    http://euler.stat.yale.edu/~tba3/class_data/stl10\n",
    "\n",
    "#cmpl = np.loadtxt('/Users/Mehraveh/Desktop/policy_lab/example.complaint_data.csv', delimiter=',')\n",
    "#offc = np.genfromtxt('/Users/Mehraveh/Desktop/policy_lab/example.officer_data.csv', delimiter=',', dtype='str')\n",
    "\n",
    "import pandas as pd\n",
    "offc = pd.read_csv('/Users/Mehraveh/Desktop/policy_lab/toy.officer_data.csv',sep=',')\n",
    "cmpl = pd.read_csv('/Users/Mehraveh/Desktop/policy_lab/toy.complaint_data.csv', sep=',')\n",
    "\n",
    "\n",
    "cmpl['Col3'] = np.ones([cmpl.shape[0],1])\n",
    "freq = cmpl.groupby('officer_id').count()\n",
    "\n",
    "offc = offc.merge(freq, left_on='officer_id', right_index=1, how='outer')\n",
    "\n",
    "offc['n_crimes'] = freq\n"
   ]
  }
 ],
 "metadata": {
  "kernelspec": {
   "display_name": "Python 3",
   "language": "python",
   "name": "python3"
  },
  "language_info": {
   "codemirror_mode": {
    "name": "ipython",
    "version": 3
   },
   "file_extension": ".py",
   "mimetype": "text/x-python",
   "name": "python",
   "nbconvert_exporter": "python",
   "pygments_lexer": "ipython3",
   "version": "3.5.1"
  }
 },
 "nbformat": 4,
 "nbformat_minor": 0
}
