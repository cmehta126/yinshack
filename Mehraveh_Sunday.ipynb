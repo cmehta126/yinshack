{
 "cells": [
  {
   "cell_type": "code",
   "execution_count": 104,
   "metadata": {
    "collapsed": false
   },
   "outputs": [],
   "source": [
    "import numpy as np\n",
    "import pandas as pd\n",
    "from sklearn.preprocessing import LabelEncoder\n",
    "from sklearn import linear_model\n",
    "from sklearn.cross_validation import LeaveOneOut, cross_val_predict\n",
    "import matplotlib.pyplot as plt\n",
    "from sklearn.metrics import mean_squared_error\n",
    "\n",
    "\n",
    "from sklearn.ensemble import GradientBoostingClassifier, GradientBoostingRegressor, RandomForestRegressor\n",
    "from sklearn.svm import SVR\n",
    "\n",
    "\n",
    "\n",
    "\n",
    "from count_lagged_complaints import *\n",
    "from chris_rasmus_graph_features import *\n",
    "\n",
    "from processing import *\n",
    "%matplotlib inline"
   ]
  },
  {
   "cell_type": "code",
   "execution_count": 105,
   "metadata": {
    "collapsed": true
   },
   "outputs": [],
   "source": [
    "offc = pd.read_csv('/Users/Mehraveh/Desktop/policy_lab/toy.officer_data.csv',sep=',')\n",
    "cmpl = pd.read_csv('/Users/Mehraveh/Desktop/policy_lab/toy.complaint_data.csv', sep=',')"
   ]
  },
  {
   "cell_type": "code",
   "execution_count": 106,
   "metadata": {
    "collapsed": false
   },
   "outputs": [],
   "source": [
    "scale_days = 365\n",
    "last_train_year = 2012\n",
    "base_year = last_train_year\n",
    "base_month = 12\n",
    "base_day = 31\n",
    "lag_max = 4\n",
    "deg_thresh = 5\n",
    "\n",
    "# cmpl_severity = add_complaint_severity(cmpl)\n",
    "# r = add_complaints_by_year_and_severity(last_train_year, lag_max, cmpl_severity, offc) \n",
    "r = add_complaints_by_year(last_train_year, lag_max, cmpl, offc) "
   ]
  },
  {
   "cell_type": "markdown",
   "metadata": {},
   "source": [
    "Adding graph features"
   ]
  },
  {
   "cell_type": "code",
   "execution_count": 107,
   "metadata": {
    "collapsed": true
   },
   "outputs": [],
   "source": [
    "complaint_df = add_lag_to_complaints(cmpl, scale_days, base_year, base_month, base_day)\n",
    "\n",
    "\n",
    "# build bipartite graph\n",
    "G = build_bipartite_graph(complaint_df)\n",
    "officer_ids = offc['officer_id'].unique()\n",
    "\n",
    "\n",
    "# get feature dictionaries\n",
    "num_nbr_complaints_dict = num_of_nbr_complaints(G, officer_ids, lag_max)\n",
    "num_high_offenders = num_high_offender_nbrs(G, officer_ids, deg_thresh)\n",
    "num_nbr_complaints_dict_pf = num_of_nbr_complaints_past_future(G, officer_ids, lag_max)\n"
   ]
  },
  {
   "cell_type": "code",
   "execution_count": 130,
   "metadata": {
    "collapsed": false
   },
   "outputs": [
    {
     "data": {
      "text/plain": [
       "Index(['first.name', 'last.name', 'appointed.date', 'race', 'gender',\n",
       "       'birth.year', 'age', 'rank', 'primary', 'secondary', 'tertiary',\n",
       "       'officer_id', 'Lag0', 'Lag-1', 'Lag-2', 'Lag-3', 'cmpl0', 'cmpl1',\n",
       "       'cmpl2', 'cmpl3', 'num_high_offndr', 'cmpl0_p', 'cmpl1_p', 'cmpl2_p',\n",
       "       'cmpl3_p', 'cmpl0_f', 'cmpl1_f', 'cmpl2_f', 'cmpl3_f'],\n",
       "      dtype='object')"
      ]
     },
     "execution_count": 130,
     "metadata": {},
     "output_type": "execute_result"
    }
   ],
   "source": [
    "A=pd.DataFrame(dict([(k,pd.Series(v)) for k,v in num_nbr_complaints_dict.items()])).transpose()\n",
    "A.columns = ['cmpl0','cmpl1','cmpl2','cmpl3']\n",
    "B=pd.DataFrame(dict([(k,pd.Series(v)) for k,v in num_high_offenders.items()])).transpose() \n",
    "B.columns = ['num_high_offndr']\n",
    "C=pd.DataFrame(dict([(k,pd.Series(v)) for k,v in num_nbr_complaints_dict_pf.items()])).transpose()\n",
    "C.columns = ['cmpl0_p','cmpl1_p','cmpl2_p','cmpl3_p','cmpl0_f','cmpl1_f','cmpl2_f','cmpl3_f']\n",
    "\n",
    "\n",
    "r_A = r.merge(A, left_on = 'officer_id', right_index = 1, how = 'outer')\n",
    "r_AB = r_A.merge(B, left_on = 'officer_id', right_index = 1, how = 'outer')\n",
    "r_AB = r_AB.fillna(0);\n",
    "r_C = r_AB.merge(C, left_on = 'officer_id', right_index = 1, how = 'outer')\n",
    "r_C.head()\n",
    "r_C.columns"
   ]
  },
  {
   "cell_type": "markdown",
   "metadata": {},
   "source": [
    "Generating output vector"
   ]
  },
  {
   "cell_type": "code",
   "execution_count": 109,
   "metadata": {
    "collapsed": false,
    "scrolled": false
   },
   "outputs": [
    {
     "data": {
      "text/plain": [
       "(3884,)"
      ]
     },
     "execution_count": 109,
     "metadata": {},
     "output_type": "execute_result"
    }
   ],
   "source": [
    "# Making Y vector\n",
    "Y = add_complaints_by_year(2015, 3, cmpl, offc) \n",
    "Y=Y[[Y.columns[Y.shape[1]-1],Y.columns[Y.shape[1]-2],Y.columns[Y.shape[1]-3]]]\n",
    "Y=Y.sum(axis=1)\n",
    "\n",
    "Y.head()\n",
    "Y.shape"
   ]
  },
  {
   "cell_type": "markdown",
   "metadata": {},
   "source": [
    "Generating feature matrix"
   ]
  },
  {
   "cell_type": "code",
   "execution_count": 131,
   "metadata": {
    "collapsed": false
   },
   "outputs": [],
   "source": [
    "# Making X vector (features)\n",
    "# X = offc\n",
    "# X = r\n",
    "# X = r_AB\n",
    "X=r_C\n",
    "X = X.drop(X.columns[[0,1,5,7,11]], axis=1)\n",
    "X[X.columns[0]] = X[X.columns[0]].astype(str).str[0:4].astype(int)\n",
    "X_cat = X[X.columns[[1,2]]]\n",
    "XX=X_cat.apply(LabelEncoder().fit_transform)\n",
    "X[X.columns[[1,2]]] = XX\n",
    "np.where(np.isnan(X))\n",
    "X_race = pd.get_dummies(X['race'])\n",
    "X_race.columns = ['race0','race1','race2','race3']\n",
    "X = X.drop(X.columns[[1]], axis=1)\n",
    "X = X.join(X_race, how='outer')\n",
    "X.head()\n",
    "\n",
    "X=X.fillna(0);"
   ]
  },
  {
   "cell_type": "markdown",
   "metadata": {},
   "source": [
    "Predictive models"
   ]
  },
  {
   "cell_type": "code",
   "execution_count": 133,
   "metadata": {
    "collapsed": false
   },
   "outputs": [
    {
     "name": "stdout",
     "output_type": "stream",
     "text": [
      "0.631234552314\n",
      "[[ 1.          0.63123455]\n",
      " [ 0.63123455  1.        ]]\n",
      "2.24915184614\n"
     ]
    },
    {
     "data": {
      "image/png": "[encoded data removed]",
      "text/plain": [
       "<matplotlib.figure.Figure at 0x119bb6dd8>"
      ]
     },
     "metadata": {},
     "output_type": "display_data"
    }
   ],
   "source": [
    "# LINEAR model\n",
    "clf = linear_model.LinearRegression()\n",
    "predicts = cross_val_predict(clf, X, Y, cv=3)\n",
    "\n",
    "# clf.fit(X,Y)\n",
    "# predicts = clf.predict(X)\n",
    "\n",
    "\n",
    "fig = plt.figure()\n",
    "plt.scatter(Y,predicts, s=100)\n",
    "mean_squared_error(Y, predicts)\n",
    "correlation = np.corrcoef(Y, predicts)[0,1]\n",
    "print(correlation)\n",
    "\n",
    "\n",
    "# fit with np.polyfit\n",
    "m, b = np.polyfit(Y, predicts, 1)\n",
    "\n",
    "plt.plot(Y, predicts, 'o',fillstyle='full',markeredgewidth=0)\n",
    "plt.plot(Y, m*Y + b, 'r-',linewidth=4)\n",
    "\n",
    "print(np.corrcoef(Y,predicts))\n",
    "print(mean_squared_error(Y,predicts))\n",
    "\n",
    "plt.xlabel('observed # of complaints',fontsize=15)\n",
    "plt.ylabel('predicted # of complaints',fontsize=15)\n",
    "plt.title('Linear model, demographic & graph - r = 0.64' ,fontsize=15)\n",
    "fig.savefig('/Users/Mehraveh/Desktop/LinearModels3')\n"
   ]
  },
  {
   "cell_type": "code",
   "execution_count": 168,
   "metadata": {
    "collapsed": false
   },
   "outputs": [
    {
     "name": "stdout",
     "output_type": "stream",
     "text": [
      "0.84926518857\n",
      "[[ 1.          0.84926519]\n",
      " [ 0.84926519  1.        ]]\n",
      "1.07718675437\n"
     ]
    },
    {
     "data": {
      "image/png": "[encoded data removed]",
      "text/plain": [
       "<matplotlib.figure.Figure at 0x12367d8d0>"
      ]
     },
     "metadata": {},
     "output_type": "display_data"
    },
    {
     "data": {
      "image/png": "[encoded data removed]",
      "text/plain": [
       "<matplotlib.figure.Figure at 0x120660588>"
      ]
     },
     "metadata": {},
     "output_type": "display_data"
    }
   ],
   "source": [
    "# GBM\n",
    "\n",
    "clf = GradientBoostingRegressor(n_estimators=500,learning_rate=0.05,min_samples_split=5,\n",
    "        min_samples_leaf=15,max_depth=5,max_features='sqrt',random_state=12,\n",
    "        subsample =0.8,verbose=0,warm_start = True)\n",
    "\n",
    "predicts = cross_val_predict(clf, X, Y, cv=3)\n",
    "\n",
    "clf.fit(X,Y)\n",
    "predicts = clf.predict(X)\n",
    "\n",
    "mean_squared_error(Y, predicts)\n",
    "plt.plot(Y,predicts,'o',fillstyle='full',markeredgewidth=0)\n",
    "correlation = np.corrcoef(Y, predicts)[0,1]\n",
    "print(correlation)\n",
    "\n",
    "m, b = np.polyfit(Y, predicts, 1)\n",
    "fig = plt.figure()\n",
    "plt.plot(Y, predicts, 'o',fillstyle='full',markeredgewidth=0)\n",
    "plt.plot(Y, m*Y + b, 'r-',linewidth=4)\n",
    "\n",
    "print(np.corrcoef(Y,predicts))\n",
    "print(mean_squared_error(Y,predicts))\n",
    "\n",
    "plt.xlabel('observed # of complaints',fontsize=15)\n",
    "plt.ylabel('predicted # of complaints',fontsize=15)\n",
    "plt.title('GBM model, demographic & graph - r = 0.85' ,fontsize=15)\n",
    "fig.savefig('/Users/Mehraveh/Desktop/GBMModels3')\n"
   ]
  },
  {
   "cell_type": "code",
   "execution_count": 163,
   "metadata": {
    "collapsed": false
   },
   "outputs": [
    {
     "data": {
      "text/plain": [
       "<Container object of 27 artists>"
      ]
     },
     "execution_count": 163,
     "metadata": {},
     "output_type": "execute_result"
    },
    {
     "data": {
      "image/png": "[encoded data removed]",
      "text/plain": [
       "<matplotlib.figure.Figure at 0x1231ea668>"
      ]
     },
     "metadata": {},
     "output_type": "display_data"
    }
   ],
   "source": [
    "plt.bar(np.arange(0,np.shape(X)[1]),imp)"
   ]
  },
  {
   "cell_type": "code",
   "execution_count": 165,
   "metadata": {
    "collapsed": false
   },
   "outputs": [
    {
     "data": {
      "text/plain": [
       "array([ 0.05893348,  0.00497243,  0.07050367,  0.01919616,  0.01708257,\n",
       "        0.03024968,  0.07859239,  0.07540776,  0.04771028,  0.03759645,\n",
       "        0.03915198,  0.05553526,  0.04753045,  0.04163326,  0.05737559,\n",
       "        0.03953217,  0.04702063,  0.04416492,  0.0225493 ,  0.        ,\n",
       "        0.05331656,  0.05487519,  0.0445825 ,  0.0005813 ,  0.00287516,\n",
       "        0.00337162,  0.00565923])"
      ]
     },
     "execution_count": 165,
     "metadata": {},
     "output_type": "execute_result"
    }
   ],
   "source": [
    "imp"
   ]
  },
  {
   "cell_type": "code",
   "execution_count": 166,
   "metadata": {
    "collapsed": false
   },
   "outputs": [
    {
     "data": {
      "text/plain": [
       "Index(['appointed.date', 'gender', 'age', 'primary', 'secondary', 'tertiary',\n",
       "       'Lag0', 'Lag-1', 'Lag-2', 'Lag-3', 'cmpl0', 'cmpl1', 'cmpl2', 'cmpl3',\n",
       "       'num_high_offndr', 'cmpl0_p', 'cmpl1_p', 'cmpl2_p', 'cmpl3_p',\n",
       "       'cmpl0_f', 'cmpl1_f', 'cmpl2_f', 'cmpl3_f', 'race0', 'race1', 'race2',\n",
       "       'race3'],\n",
       "      dtype='object')"
      ]
     },
     "execution_count": 166,
     "metadata": {},
     "output_type": "execute_result"
    }
   ],
   "source": [
    "X.columns"
   ]
  },
  {
   "cell_type": "code",
   "execution_count": 62,
   "metadata": {
    "collapsed": false
   },
   "outputs": [],
   "source": [
    "# clf = RandomForestRegressor(n_estimators=500)\n",
    "# predicts = cross_val_predict(clf, X, Y, cv=3)\n",
    "\n",
    "# # clf.fit(X,Y)\n",
    "# # predicts = clf.predict(X)\n",
    "\n",
    "# mean_squared_error(Y, predicts)\n",
    "# plt.plot(Y,predicts,'o')\n",
    "# correlation = np.corrcoef(Y, predicts)[0,1]\n",
    "# print(correlation)\n",
    "\n",
    "# clf.fit(X,Y)\n",
    "# imp = clf.feature_importances_\n"
   ]
  },
  {
   "cell_type": "code",
   "execution_count": 66,
   "metadata": {
    "collapsed": false
   },
   "outputs": [
    {
     "data": {
      "text/plain": [
       "Index(['appointed.date', 'gender', 'age', 'primary', 'secondary', 'tertiary',\n",
       "       'Lag0', 'Lag-1', 'Lag-2', 'Lag-3', 'cmpl0', 'cmpl1', 'cmpl2', 'cmpl3',\n",
       "       'num_high_offndr', 'cmpl0_p', 'cmpl1_p', 'cmpl2_p', 'cmpl3_p',\n",
       "       'cmpl0_f', 'cmpl1_f', 'cmpl2_f', 'cmpl3_f', 'race0', 'race1', 'race2',\n",
       "       'race3'],\n",
       "      dtype='object')"
      ]
     },
     "execution_count": 66,
     "metadata": {},
     "output_type": "execute_result"
    }
   ],
   "source": [
    "X.columns"
   ]
  },
  {
   "cell_type": "code",
   "execution_count": null,
   "metadata": {
    "collapsed": true
   },
   "outputs": [],
   "source": []
  }
 ],
 "metadata": {
  "kernelspec": {
   "display_name": "Python [conda root]",
   "language": "python",
   "name": "conda-root-py"
  },
  "language_info": {
   "codemirror_mode": {
    "name": "ipython",
    "version": 2
   },
   "file_extension": ".py",
   "mimetype": "text/x-python",
   "name": "python",
   "nbconvert_exporter": "python",
   "pygments_lexer": "ipython2",
   "version": "2.7.12"
  }
 },
 "nbformat": 4,
 "nbformat_minor": 0
}
