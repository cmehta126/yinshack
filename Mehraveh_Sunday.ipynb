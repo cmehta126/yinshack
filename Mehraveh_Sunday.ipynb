{
 "cells": [
  {
   "cell_type": "code",
   "execution_count": 19,
   "metadata": {
    "collapsed": false
   },
   "outputs": [],
   "source": [
    "import numpy as np\n",
    "import pandas as pd\n",
    "from sklearn.preprocessing import LabelEncoder\n",
    "from sklearn import linear_model\n",
    "from sklearn.cross_validation import LeaveOneOut, cross_val_predict\n",
    "import matplotlib.pyplot as plt\n",
    "from sklearn.metrics import mean_squared_error\n",
    "\n",
    "\n",
    "from sklearn.ensemble import GradientBoostingClassifier, GradientBoostingRegressor, RandomForestRegressor\n",
    "from sklearn.svm import SVR\n",
    "\n",
    "\n",
    "\n",
    "\n",
    "from count_lagged_complaints import *\n",
    "from chris_rasmus_graph_features import *\n",
    "\n",
    "from processing import *\n",
    "%matplotlib inline"
   ]
  },
  {
   "cell_type": "code",
   "execution_count": 2,
   "metadata": {
    "collapsed": true
   },
   "outputs": [],
   "source": [
    "offc = pd.read_csv('/Users/Mehraveh/Desktop/policy_lab/toy.officer_data.csv',sep=',')\n",
    "cmpl = pd.read_csv('/Users/Mehraveh/Desktop/policy_lab/toy.complaint_data.csv', sep=',')"
   ]
  },
  {
   "cell_type": "code",
   "execution_count": 4,
   "metadata": {
    "collapsed": true
   },
   "outputs": [],
   "source": [
    "scale_days = 365\n",
    "last_train_year = 2012\n",
    "base_year = last_train_year\n",
    "base_month = 12\n",
    "base_day = 31\n",
    "lag_max = 4\n",
    "deg_thresh = 5\n",
    "\n",
    "r = add_complaints_by_year(last_train_year, lag_max, cmpl, offc) "
   ]
  },
  {
   "cell_type": "markdown",
   "metadata": {},
   "source": [
    "Adding graph features"
   ]
  },
  {
   "cell_type": "code",
   "execution_count": 5,
   "metadata": {
    "collapsed": true
   },
   "outputs": [],
   "source": [
    "complaint_df0 = add_lag_to_complaints(cmpl, scale_days, base_year, base_month, base_day)\n",
    "# complaint_df = add_complaint_severity(complaint_df0)\n",
    "\n",
    "# build bipartite graph\n",
    "G = build_bipartite_graph(complaint_df0)\n",
    "officer_ids = offc['officer_id'].unique()\n",
    "\n",
    "\n",
    "# get feature dictionaries\n",
    "num_nbr_complaints_dict = num_of_nbr_complaints(G, officer_ids, lag_max)\n",
    "num_high_offenders = num_high_offender_nbrs(G, officer_ids, deg_thresh)\n",
    "num_nbr_complaints_dict_pf = num_of_nbr_complaints_past_future(G, officer_ids, lag_max)\n"
   ]
  },
  {
   "cell_type": "code",
   "execution_count": 6,
   "metadata": {
    "collapsed": false
   },
   "outputs": [
    {
     "data": {
      "text/html": [
       "<div>\n",
       "<table border=\"1\" class=\"dataframe\">\n",
       "  <thead>\n",
       "    <tr style=\"text-align: right;\">\n",
       "      <th></th>\n",
       "      <th>first.name</th>\n",
       "      <th>last.name</th>\n",
       "      <th>appointed.date</th>\n",
       "      <th>race</th>\n",
       "      <th>gender</th>\n",
       "      <th>birth.year</th>\n",
       "      <th>age</th>\n",
       "      <th>rank</th>\n",
       "      <th>primary</th>\n",
       "      <th>secondary</th>\n",
       "      <th>...</th>\n",
       "      <th>cmpl3</th>\n",
       "      <th>num_high_offndr</th>\n",
       "      <th>cmpl0_p</th>\n",
       "      <th>cmpl1_p</th>\n",
       "      <th>cmpl2_p</th>\n",
       "      <th>cmpl3_p</th>\n",
       "      <th>cmpl0_f</th>\n",
       "      <th>cmpl1_f</th>\n",
       "      <th>cmpl2_f</th>\n",
       "      <th>cmpl3_f</th>\n",
       "    </tr>\n",
       "  </thead>\n",
       "  <tbody>\n",
       "    <tr>\n",
       "      <th>0</th>\n",
       "      <td>KARINA</td>\n",
       "      <td>AARON</td>\n",
       "      <td>2005-09-26</td>\n",
       "      <td>HISPANIC</td>\n",
       "      <td>FEMALE</td>\n",
       "      <td>1980</td>\n",
       "      <td>35.0</td>\n",
       "      <td>POLICE OFFICER</td>\n",
       "      <td>0</td>\n",
       "      <td>1</td>\n",
       "      <td>...</td>\n",
       "      <td>8</td>\n",
       "      <td>12.0</td>\n",
       "      <td>9</td>\n",
       "      <td>10</td>\n",
       "      <td>3</td>\n",
       "      <td>1</td>\n",
       "      <td>0</td>\n",
       "      <td>0</td>\n",
       "      <td>7</td>\n",
       "      <td>7</td>\n",
       "    </tr>\n",
       "    <tr>\n",
       "      <th>1</th>\n",
       "      <td>AZIZ</td>\n",
       "      <td>ABDELMAJEID</td>\n",
       "      <td>2008-04-28</td>\n",
       "      <td>A_OTHER</td>\n",
       "      <td>MALE</td>\n",
       "      <td>1984</td>\n",
       "      <td>31.0</td>\n",
       "      <td>POLICE OFFICER</td>\n",
       "      <td>0</td>\n",
       "      <td>0</td>\n",
       "      <td>...</td>\n",
       "      <td>18</td>\n",
       "      <td>22.0</td>\n",
       "      <td>17</td>\n",
       "      <td>25</td>\n",
       "      <td>24</td>\n",
       "      <td>4</td>\n",
       "      <td>0</td>\n",
       "      <td>0</td>\n",
       "      <td>0</td>\n",
       "      <td>16</td>\n",
       "    </tr>\n",
       "    <tr>\n",
       "      <th>2</th>\n",
       "      <td>JENNIFER</td>\n",
       "      <td>ACCARDO</td>\n",
       "      <td>2004-11-29</td>\n",
       "      <td>WHITE</td>\n",
       "      <td>FEMALE</td>\n",
       "      <td>1979</td>\n",
       "      <td>37.0</td>\n",
       "      <td>POLICE OFFICER</td>\n",
       "      <td>0</td>\n",
       "      <td>0</td>\n",
       "      <td>...</td>\n",
       "      <td>1</td>\n",
       "      <td>1.0</td>\n",
       "      <td>1</td>\n",
       "      <td>1</td>\n",
       "      <td>0</td>\n",
       "      <td>0</td>\n",
       "      <td>0</td>\n",
       "      <td>0</td>\n",
       "      <td>1</td>\n",
       "      <td>1</td>\n",
       "    </tr>\n",
       "    <tr>\n",
       "      <th>3</th>\n",
       "      <td>ROSEMARY</td>\n",
       "      <td>ACCARDO</td>\n",
       "      <td>1986-08-11</td>\n",
       "      <td>WHITE</td>\n",
       "      <td>FEMALE</td>\n",
       "      <td>1952</td>\n",
       "      <td>63.0</td>\n",
       "      <td>POLICE OFFICER</td>\n",
       "      <td>0</td>\n",
       "      <td>0</td>\n",
       "      <td>...</td>\n",
       "      <td>1</td>\n",
       "      <td>0.0</td>\n",
       "      <td>0</td>\n",
       "      <td>0</td>\n",
       "      <td>1</td>\n",
       "      <td>1</td>\n",
       "      <td>0</td>\n",
       "      <td>0</td>\n",
       "      <td>0</td>\n",
       "      <td>0</td>\n",
       "    </tr>\n",
       "    <tr>\n",
       "      <th>4</th>\n",
       "      <td>THOMAS</td>\n",
       "      <td>ACCARDO</td>\n",
       "      <td>2001-04-30</td>\n",
       "      <td>WHITE</td>\n",
       "      <td>MALE</td>\n",
       "      <td>1967</td>\n",
       "      <td>49.0</td>\n",
       "      <td>POLICE OFFICER</td>\n",
       "      <td>0</td>\n",
       "      <td>1</td>\n",
       "      <td>...</td>\n",
       "      <td>0</td>\n",
       "      <td>0.0</td>\n",
       "      <td>1</td>\n",
       "      <td>1</td>\n",
       "      <td>0</td>\n",
       "      <td>0</td>\n",
       "      <td>0</td>\n",
       "      <td>0</td>\n",
       "      <td>0</td>\n",
       "      <td>0</td>\n",
       "    </tr>\n",
       "  </tbody>\n",
       "</table>\n",
       "<p>5 rows × 29 columns</p>\n",
       "</div>"
      ],
      "text/plain": [
       "  first.name    last.name appointed.date      race  gender  birth.year   age  \\\n",
       "0     KARINA        AARON     2005-09-26  HISPANIC  FEMALE        1980  35.0   \n",
       "1       AZIZ  ABDELMAJEID     2008-04-28   A_OTHER    MALE        1984  31.0   \n",
       "2   JENNIFER      ACCARDO     2004-11-29     WHITE  FEMALE        1979  37.0   \n",
       "3   ROSEMARY      ACCARDO     1986-08-11     WHITE  FEMALE        1952  63.0   \n",
       "4     THOMAS      ACCARDO     2001-04-30     WHITE    MALE        1967  49.0   \n",
       "\n",
       "             rank  primary  secondary   ...     cmpl3  num_high_offndr  \\\n",
       "0  POLICE OFFICER        0          1   ...         8             12.0   \n",
       "1  POLICE OFFICER        0          0   ...        18             22.0   \n",
       "2  POLICE OFFICER        0          0   ...         1              1.0   \n",
       "3  POLICE OFFICER        0          0   ...         1              0.0   \n",
       "4  POLICE OFFICER        0          1   ...         0              0.0   \n",
       "\n",
       "   cmpl0_p  cmpl1_p  cmpl2_p  cmpl3_p  cmpl0_f  cmpl1_f  cmpl2_f  cmpl3_f  \n",
       "0        9       10        3        1        0        0        7        7  \n",
       "1       17       25       24        4        0        0        0       16  \n",
       "2        1        1        0        0        0        0        1        1  \n",
       "3        0        0        1        1        0        0        0        0  \n",
       "4        1        1        0        0        0        0        0        0  \n",
       "\n",
       "[5 rows x 29 columns]"
      ]
     },
     "execution_count": 6,
     "metadata": {},
     "output_type": "execute_result"
    }
   ],
   "source": [
    "A=pd.DataFrame(dict([(k,pd.Series(v)) for k,v in num_nbr_complaints_dict.items()])).transpose()\n",
    "A.columns = ['cmpl0','cmpl1','cmpl2','cmpl3']\n",
    "\n",
    "B=pd.DataFrame(dict([(k,pd.Series(v)) for k,v in num_high_offenders.items()])).transpose() \n",
    "B.columns = ['num_high_offndr']\n",
    "C=pd.DataFrame(dict([(k,pd.Series(v)) for k,v in num_nbr_complaints_dict_pf.items()])).transpose()\n",
    "C.columns = ['cmpl0_p','cmpl1_p','cmpl2_p','cmpl3_p','cmpl0_f','cmpl1_f','cmpl2_f','cmpl3_f']\n",
    "\n",
    "\n",
    "r_A = r.merge(A, left_on = 'officer_id', right_index = 1, how = 'outer')\n",
    "r_AB = r_A.merge(B, left_on = 'officer_id', right_index = 1, how = 'outer')\n",
    "r_AB = r_AB.fillna(0);\n",
    "r_C = r_AB.merge(C, left_on = 'officer_id', right_index = 1, how = 'outer')\n",
    "r_C.head()"
   ]
  },
  {
   "cell_type": "markdown",
   "metadata": {},
   "source": [
    "Generating feature matrix"
   ]
  },
  {
   "cell_type": "code",
   "execution_count": 7,
   "metadata": {
    "collapsed": false
   },
   "outputs": [
    {
     "data": {
      "text/plain": [
       "Index(['appointed.date', 'gender', 'age', 'primary', 'secondary', 'tertiary',\n",
       "       'Lag0', 'Lag-1', 'Lag-2', 'Lag-3', 'cmpl0', 'cmpl1', 'cmpl2', 'cmpl3',\n",
       "       'num_high_offndr', 'cmpl0_p', 'cmpl1_p', 'cmpl2_p', 'cmpl3_p',\n",
       "       'cmpl0_f', 'cmpl1_f', 'cmpl2_f', 'cmpl3_f', 'race0', 'race1', 'race2',\n",
       "       'race3'],\n",
       "      dtype='object')"
      ]
     },
     "execution_count": 7,
     "metadata": {},
     "output_type": "execute_result"
    }
   ],
   "source": [
    "# Making X vector (features)\n",
    "# X = r_AB\n",
    "X=r_C\n",
    "\n",
    "#Dropping \"FirstName\", \"LastName\", \"BirthYear\",\"Rank\"\n",
    "X = X.drop(X.columns[[0,1,5,7,11]], axis=1)\n",
    "# Getting years from apponted dates and normalizing\n",
    "# temp = X[X.columns[0]].astype(str).str[0:4].astype(int)\n",
    "# X[X.columns[0]] = (temp-np.mean(temp))/np.std(temp)\n",
    "X[X.columns[0]] = X[X.columns[0]].astype(str).str[0:4].astype(int)\n",
    "\n",
    "\n",
    "#Encoding categorical variables\n",
    "X_cat = X[X.columns[[1,2]]]\n",
    "XX=X_cat.apply(LabelEncoder().fit_transform)\n",
    "X[X.columns[[1,2]]] = XX\n",
    "np.where(np.isnan(X))\n",
    "X_race = pd.get_dummies(X['race'])\n",
    "X_race.columns = ['race0','race1','race2','race3']\n",
    "X = X.drop(X.columns[[1]], axis=1)\n",
    "X = X.join(X_race, how='outer')\n",
    "\n",
    "X.head()\n",
    "X.columns"
   ]
  },
  {
   "cell_type": "markdown",
   "metadata": {},
   "source": [
    "Generating output vector"
   ]
  },
  {
   "cell_type": "code",
   "execution_count": 8,
   "metadata": {
    "collapsed": false
   },
   "outputs": [
    {
     "data": {
      "text/plain": [
       "0    0.0\n",
       "1    0.0\n",
       "2    0.0\n",
       "3    0.0\n",
       "4    3.0\n",
       "dtype: float64"
      ]
     },
     "execution_count": 8,
     "metadata": {},
     "output_type": "execute_result"
    }
   ],
   "source": [
    "# Making Y vector\n",
    "\n",
    "Y = add_complaints_by_year(2015, 3, cmpl, offc)\n",
    "\n",
    "Y=Y[[Y.columns[Y.shape[1]-1],Y.columns[Y.shape[1]-2],Y.columns[Y.shape[1]-3]]]\n",
    "Y=Y.sum(axis=1)\n",
    "\n",
    "Y.head()"
   ]
  },
  {
   "cell_type": "markdown",
   "metadata": {},
   "source": [
    "Predictive models"
   ]
  },
  {
   "cell_type": "code",
   "execution_count": 11,
   "metadata": {
    "collapsed": false
   },
   "outputs": [
    {
     "name": "stdout",
     "output_type": "stream",
     "text": [
      "0.643169821776\n"
     ]
    },
    {
     "data": {
      "image/png": "[encoded data removed]",
      "text/plain": [
       "<matplotlib.figure.Figure at 0x105a5c828>"
      ]
     },
     "metadata": {},
     "output_type": "display_data"
    }
   ],
   "source": [
    "# LINEAR model\n",
    "\n",
    "\n",
    "clf = linear_model.LinearRegression()\n",
    "# predicts = cross_val_predict(clf, X, Y, cv=3)\n",
    "\n",
    "clf.fit(X,Y)\n",
    "predicts = clf.predict(X)\n",
    "\n",
    "plt.scatter(Y,predicts, s=100)\n",
    "mean_squared_error(Y, predicts)\n",
    "correlation = np.corrcoef(Y, predicts)[0,1]\n",
    "print(correlation)"
   ]
  },
  {
   "cell_type": "code",
   "execution_count": 10,
   "metadata": {
    "collapsed": false
   },
   "outputs": [
    {
     "name": "stdout",
     "output_type": "stream",
     "text": [
      "0.620553501128\n"
     ]
    },
    {
     "data": {
      "image/png": "[encoded data removed]",
      "text/plain": [
       "<matplotlib.figure.Figure at 0x119abe780>"
      ]
     },
     "metadata": {},
     "output_type": "display_data"
    }
   ],
   "source": [
    "# GBM\n",
    "\n",
    "clf = GradientBoostingRegressor(n_estimators=500,learning_rate=0.05,min_samples_split=5,\n",
    "        min_samples_leaf=15,max_depth=5,max_features='sqrt',random_state=12,\n",
    "        subsample =0.8,verbose=0,warm_start = True)\n",
    "\n",
    "predicts = cross_val_predict(clf, X, Y, cv=3)\n",
    "\n",
    "# clf.fit(X,Y)\n",
    "# predicts = clf.predict(X)\n",
    "\n",
    "mean_squared_error(Y, predicts)\n",
    "plt.plot(Y,predicts,'*')\n",
    "correlation = np.corrcoef(Y, predicts)[0,1]\n",
    "print(correlation)\n",
    "\n",
    "# clf.fit(X,Y)\n",
    "# imp = clf.feature_importances_\n"
   ]
  },
  {
   "cell_type": "code",
   "execution_count": 12,
   "metadata": {
    "collapsed": false
   },
   "outputs": [
    {
     "ename": "NameError",
     "evalue": "name 'imp' is not defined",
     "output_type": "error",
     "traceback": [
      "\u001b[0;31m---------------------------------------------------------------------------\u001b[0m",
      "\u001b[0;31mNameError\u001b[0m                                 Traceback (most recent call last)",
      "\u001b[0;32m<ipython-input-12-4160ff86de33>\u001b[0m in \u001b[0;36m<module>\u001b[0;34m()\u001b[0m\n\u001b[0;32m----> 1\u001b[0;31m \u001b[0mplt\u001b[0m\u001b[0;34m.\u001b[0m\u001b[0mbar\u001b[0m\u001b[0;34m(\u001b[0m\u001b[0mnp\u001b[0m\u001b[0;34m.\u001b[0m\u001b[0marange\u001b[0m\u001b[0;34m(\u001b[0m\u001b[0;36m0\u001b[0m\u001b[0;34m,\u001b[0m\u001b[0mnp\u001b[0m\u001b[0;34m.\u001b[0m\u001b[0mshape\u001b[0m\u001b[0;34m(\u001b[0m\u001b[0mX\u001b[0m\u001b[0;34m)\u001b[0m\u001b[0;34m[\u001b[0m\u001b[0;36m1\u001b[0m\u001b[0;34m]\u001b[0m\u001b[0;34m)\u001b[0m\u001b[0;34m,\u001b[0m\u001b[0mimp\u001b[0m\u001b[0;34m)\u001b[0m\u001b[0;34m\u001b[0m\u001b[0m\n\u001b[0m",
      "\u001b[0;31mNameError\u001b[0m: name 'imp' is not defined"
     ]
    }
   ],
   "source": [
    "plt.bar(np.arange(0,np.shape(X)[1]),imp)"
   ]
  },
  {
   "cell_type": "code",
   "execution_count": 16,
   "metadata": {
    "collapsed": false
   },
   "outputs": [
    {
     "name": "stdout",
     "output_type": "stream",
     "text": [
      "0.612966560397\n"
     ]
    },
    {
     "data": {
      "image/png": "[encoded data removed]",
      "text/plain": [
       "<matplotlib.figure.Figure at 0x1175b3ac8>"
      ]
     },
     "metadata": {},
     "output_type": "display_data"
    }
   ],
   "source": [
    "clf = RandomForestRegressor(n_estimators=100)\n",
    "predicts = cross_val_predict(clf, X, Y, cv=3)\n",
    "\n",
    "# clf.fit(X,Y)\n",
    "# predicts = clf.predict(X)\n",
    "\n",
    "mean_squared_error(Y, predicts)\n",
    "plt.plot(Y,predicts,'*')\n",
    "correlation = np.corrcoef(Y, predicts)[0,1]\n",
    "print(correlation)\n",
    "\n",
    "clf.fit(X,Y)\n",
    "imp = clf.feature_importances_\n"
   ]
  },
  {
   "cell_type": "code",
   "execution_count": 20,
   "metadata": {
    "collapsed": false
   },
   "outputs": [
    {
     "name": "stdout",
     "output_type": "stream",
     "text": [
      "0.453140343531\n"
     ]
    },
    {
     "data": {
      "image/png": "[encoded data removed]",
      "text/plain": [
       "<matplotlib.figure.Figure at 0x1175b9550>"
      ]
     },
     "metadata": {},
     "output_type": "display_data"
    }
   ],
   "source": [
    "clf = SVR(kernel='rbf', degree=3, gamma='auto')\n",
    "\n",
    "predicts = cross_val_predict(clf, X, Y, cv=3)\n",
    "\n",
    "#clf.fit(X2,Y)\n",
    "#predicts = clf.predict(X2)\n",
    "\n",
    "mean_squared_error(Y, predicts)\n",
    "plt.plot(Y,predicts,'*')\n",
    "correlation = np.corrcoef(Y, predicts)[0,1]\n",
    "print(correlation)"
   ]
  },
  {
   "cell_type": "code",
   "execution_count": null,
   "metadata": {
    "collapsed": true
   },
   "outputs": [],
   "source": []
  }
 ],
 "metadata": {
  "kernelspec": {
   "display_name": "Python [conda root]",
   "language": "python",
   "name": "conda-root-py"
  },
  "language_info": {
   "codemirror_mode": {
    "name": "ipython",
    "version": 2
   },
   "file_extension": ".py",
   "mimetype": "text/x-python",
   "name": "python",
   "nbconvert_exporter": "python",
   "pygments_lexer": "ipython2",
   "version": "2.7.12"
  }
 },
 "nbformat": 4,
 "nbformat_minor": 0
}
