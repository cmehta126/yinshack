{
 "cells": [
  {
   "cell_type": "code",
   "execution_count": 1,
   "metadata": {
    "collapsed": true
   },
   "outputs": [],
   "source": [
    "# This is Jupyter notebook that loads the cop data\n",
    "# as a pandas dataframe\n",
    "#\n",
    "\n",
    "import matplotlib.pyplot as plt\n",
    "import pandas as pd\n",
    "import os\n",
    "import numpy as np\n",
    "\n",
    "%matplotlib inline\n",
    "\n",
    "data_folder = os.path.join(os.getcwd(), 'data')\n",
    "\n",
    "# Step 1: Import the Data\n",
    "\n",
    "# import the officer data\n",
    "officer_file = os.path.join(data_folder, 'toy.officer_data.csv')\n",
    "officer_df = pd.read_csv(officer_file)\n",
    "\n",
    "# import the complaint data\n",
    "complaint_file = os.path.join(data_folder, 'toy.complaint_data.csv')\n",
    "complaint_df = pd.read_csv(complaint_file)\n"
   ]
  },
  {
   "cell_type": "code",
   "execution_count": 2,
   "metadata": {
    "collapsed": false
   },
   "outputs": [
    {
     "data": {
      "text/html": [
       "<div style=\"max-height:1000px;max-width:1500px;overflow:auto;\">\n",
       "<table border=\"1\" class=\"dataframe\">\n",
       "  <thead>\n",
       "    <tr style=\"text-align: right;\">\n",
       "      <th></th>\n",
       "      <th>crid</th>\n",
       "      <th>incident_date</th>\n",
       "      <th>beat_2012_geocoded</th>\n",
       "      <th>complaintcategory</th>\n",
       "      <th>finalfinding</th>\n",
       "      <th>officer_id</th>\n",
       "    </tr>\n",
       "  </thead>\n",
       "  <tbody>\n",
       "    <tr>\n",
       "      <th>0</th>\n",
       "      <td> 1022797</td>\n",
       "      <td> 01-Jan-2009  0:08</td>\n",
       "      <td>NaN</td>\n",
       "      <td> 03G-MISCELLANEOUS</td>\n",
       "      <td> EX</td>\n",
       "      <td> 1</td>\n",
       "    </tr>\n",
       "    <tr>\n",
       "      <th>1</th>\n",
       "      <td> 1022797</td>\n",
       "      <td> 01-Jan-2009  0:08</td>\n",
       "      <td>NaN</td>\n",
       "      <td> 03G-MISCELLANEOUS</td>\n",
       "      <td> EX</td>\n",
       "      <td> 2</td>\n",
       "    </tr>\n",
       "    <tr>\n",
       "      <th>2</th>\n",
       "      <td> 1022797</td>\n",
       "      <td> 01-Jan-2009  0:08</td>\n",
       "      <td>NaN</td>\n",
       "      <td> 03G-MISCELLANEOUS</td>\n",
       "      <td> EX</td>\n",
       "      <td> 3</td>\n",
       "    </tr>\n",
       "    <tr>\n",
       "      <th>3</th>\n",
       "      <td> 1022797</td>\n",
       "      <td> 01-Jan-2009  0:08</td>\n",
       "      <td>NaN</td>\n",
       "      <td> 03G-MISCELLANEOUS</td>\n",
       "      <td> EX</td>\n",
       "      <td> 4</td>\n",
       "    </tr>\n",
       "    <tr>\n",
       "      <th>4</th>\n",
       "      <td> 1022797</td>\n",
       "      <td> 01-Jan-2009  0:08</td>\n",
       "      <td>NaN</td>\n",
       "      <td> 03G-MISCELLANEOUS</td>\n",
       "      <td> EX</td>\n",
       "      <td> 5</td>\n",
       "    </tr>\n",
       "  </tbody>\n",
       "</table>\n",
       "</div>"
      ],
      "text/plain": [
       "      crid      incident_date  beat_2012_geocoded  complaintcategory  \\\n",
       "0  1022797  01-Jan-2009  0:08                 NaN  03G-MISCELLANEOUS   \n",
       "1  1022797  01-Jan-2009  0:08                 NaN  03G-MISCELLANEOUS   \n",
       "2  1022797  01-Jan-2009  0:08                 NaN  03G-MISCELLANEOUS   \n",
       "3  1022797  01-Jan-2009  0:08                 NaN  03G-MISCELLANEOUS   \n",
       "4  1022797  01-Jan-2009  0:08                 NaN  03G-MISCELLANEOUS   \n",
       "\n",
       "  finalfinding  officer_id  \n",
       "0           EX           1  \n",
       "1           EX           2  \n",
       "2           EX           3  \n",
       "3           EX           4  \n",
       "4           EX           5  "
      ]
     },
     "execution_count": 2,
     "metadata": {},
     "output_type": "execute_result"
    }
   ],
   "source": [
    "# Step 2: See the Data\n",
    "\n",
    "# officer head\n",
    "officer_df.head()\n",
    "\n",
    "# complaint head\n",
    "complaint_df.head()"
   ]
  },
  {
   "cell_type": "code",
   "execution_count": 3,
   "metadata": {
    "collapsed": false
   },
   "outputs": [],
   "source": [
    "complaint_df[\"LAG\"] = np.random.randint(0,6,13840)"
   ]
  },
  {
   "cell_type": "code",
   "execution_count": 4,
   "metadata": {
    "collapsed": true
   },
   "outputs": [],
   "source": [
    "complaint_df[\"complaint_type\"] = np.random.randint(0,3,13840)"
   ]
  },
  {
   "cell_type": "code",
   "execution_count": 5,
   "metadata": {
    "collapsed": false
   },
   "outputs": [
    {
     "data": {
      "text/html": [
       "<div style=\"max-height:1000px;max-width:1500px;overflow:auto;\">\n",
       "<table border=\"1\" class=\"dataframe\">\n",
       "  <thead>\n",
       "    <tr style=\"text-align: right;\">\n",
       "      <th></th>\n",
       "      <th>crid</th>\n",
       "      <th>incident_date</th>\n",
       "      <th>beat_2012_geocoded</th>\n",
       "      <th>complaintcategory</th>\n",
       "      <th>finalfinding</th>\n",
       "      <th>officer_id</th>\n",
       "      <th>LAG</th>\n",
       "      <th>complaint_type</th>\n",
       "    </tr>\n",
       "  </thead>\n",
       "  <tbody>\n",
       "    <tr>\n",
       "      <th>0</th>\n",
       "      <td> 1022797</td>\n",
       "      <td> 01-Jan-2009  0:08</td>\n",
       "      <td>NaN</td>\n",
       "      <td> 03G-MISCELLANEOUS</td>\n",
       "      <td> EX</td>\n",
       "      <td> 1</td>\n",
       "      <td> 0</td>\n",
       "      <td> 2</td>\n",
       "    </tr>\n",
       "    <tr>\n",
       "      <th>1</th>\n",
       "      <td> 1022797</td>\n",
       "      <td> 01-Jan-2009  0:08</td>\n",
       "      <td>NaN</td>\n",
       "      <td> 03G-MISCELLANEOUS</td>\n",
       "      <td> EX</td>\n",
       "      <td> 2</td>\n",
       "      <td> 4</td>\n",
       "      <td> 2</td>\n",
       "    </tr>\n",
       "    <tr>\n",
       "      <th>2</th>\n",
       "      <td> 1022797</td>\n",
       "      <td> 01-Jan-2009  0:08</td>\n",
       "      <td>NaN</td>\n",
       "      <td> 03G-MISCELLANEOUS</td>\n",
       "      <td> EX</td>\n",
       "      <td> 3</td>\n",
       "      <td> 3</td>\n",
       "      <td> 0</td>\n",
       "    </tr>\n",
       "    <tr>\n",
       "      <th>3</th>\n",
       "      <td> 1022797</td>\n",
       "      <td> 01-Jan-2009  0:08</td>\n",
       "      <td>NaN</td>\n",
       "      <td> 03G-MISCELLANEOUS</td>\n",
       "      <td> EX</td>\n",
       "      <td> 4</td>\n",
       "      <td> 0</td>\n",
       "      <td> 2</td>\n",
       "    </tr>\n",
       "    <tr>\n",
       "      <th>4</th>\n",
       "      <td> 1022797</td>\n",
       "      <td> 01-Jan-2009  0:08</td>\n",
       "      <td>NaN</td>\n",
       "      <td> 03G-MISCELLANEOUS</td>\n",
       "      <td> EX</td>\n",
       "      <td> 5</td>\n",
       "      <td> 0</td>\n",
       "      <td> 0</td>\n",
       "    </tr>\n",
       "  </tbody>\n",
       "</table>\n",
       "</div>"
      ],
      "text/plain": [
       "      crid      incident_date  beat_2012_geocoded  complaintcategory  \\\n",
       "0  1022797  01-Jan-2009  0:08                 NaN  03G-MISCELLANEOUS   \n",
       "1  1022797  01-Jan-2009  0:08                 NaN  03G-MISCELLANEOUS   \n",
       "2  1022797  01-Jan-2009  0:08                 NaN  03G-MISCELLANEOUS   \n",
       "3  1022797  01-Jan-2009  0:08                 NaN  03G-MISCELLANEOUS   \n",
       "4  1022797  01-Jan-2009  0:08                 NaN  03G-MISCELLANEOUS   \n",
       "\n",
       "  finalfinding  officer_id  LAG  complaint_type  \n",
       "0           EX           1    0               2  \n",
       "1           EX           2    4               2  \n",
       "2           EX           3    3               0  \n",
       "3           EX           4    0               2  \n",
       "4           EX           5    0               0  "
      ]
     },
     "execution_count": 5,
     "metadata": {},
     "output_type": "execute_result"
    }
   ],
   "source": [
    "complaint_df.head()"
   ]
  },
  {
   "cell_type": "code",
   "execution_count": 16,
   "metadata": {
    "collapsed": true
   },
   "outputs": [],
   "source": [
    "from more_graph_features  import *"
   ]
  },
  {
   "cell_type": "code",
   "execution_count": 17,
   "metadata": {
    "collapsed": true
   },
   "outputs": [],
   "source": [
    "from chris_rasmus_graph_features  import *\n",
    "G = build_bipartite_graph(complaint_df)"
   ]
  },
  {
   "cell_type": "code",
   "execution_count": 18,
   "metadata": {
    "collapsed": false
   },
   "outputs": [],
   "source": [
    "G = build_bipartite_graph_typed(complaint_df)"
   ]
  },
  {
   "cell_type": "code",
   "execution_count": 14,
   "metadata": {
    "collapsed": false
   },
   "outputs": [],
   "source": [
    "oids = complaint_df['officer_id'].unique()"
   ]
  },
  {
   "cell_type": "code",
   "execution_count": 15,
   "metadata": {
    "collapsed": false
   },
   "outputs": [
    {
     "ename": "NameError",
     "evalue": "global name 't1' is not defined",
     "output_type": "error",
     "traceback": [
      "\u001b[0;31m---------------------------------------------------------------------------\u001b[0m",
      "\u001b[0;31mNameError\u001b[0m                                 Traceback (most recent call last)",
      "\u001b[0;32m<ipython-input-15-1f6f9419fcf3>\u001b[0m in \u001b[0;36m<module>\u001b[0;34m()\u001b[0m\n\u001b[0;32m----> 1\u001b[0;31m \u001b[0moid_nbrcomp\u001b[0m \u001b[0;34m=\u001b[0m \u001b[0mnum_of_nbr_complaints_typed_past_future\u001b[0m\u001b[0;34m(\u001b[0m\u001b[0mG\u001b[0m\u001b[0;34m,\u001b[0m\u001b[0moids\u001b[0m\u001b[0;34m,\u001b[0m\u001b[0;36m6\u001b[0m\u001b[0;34m,\u001b[0m\u001b[0minclude_self\u001b[0m\u001b[0;34m=\u001b[0m\u001b[0mFalse\u001b[0m\u001b[0;34m,\u001b[0m\u001b[0mthreshold\u001b[0m\u001b[0;34m=\u001b[0m\u001b[0;36m0\u001b[0m\u001b[0;34m)\u001b[0m\u001b[0;34m\u001b[0m\u001b[0m\n\u001b[0m",
      "\u001b[0;32m/Users/rjkyng/old-Box Sync/Research_on_Box/Repos/yins-datahack-2017/more_graph_features.py\u001b[0m in \u001b[0;36mnum_of_nbr_complaints_typed_past_future\u001b[0;34m(G, officer_ids, lag, include_self, threshold)\u001b[0m\n\u001b[1;32m    105\u001b[0m                             \u001b[0;32mif\u001b[0m \u001b[0mt2\u001b[0m \u001b[0;34m<=\u001b[0m \u001b[0mlag\u001b[0m\u001b[0;34m:\u001b[0m\u001b[0;34m\u001b[0m\u001b[0m\n\u001b[1;32m    106\u001b[0m                                 \u001b[0mcomptype\u001b[0m \u001b[0;34m=\u001b[0m \u001b[0medge_data\u001b[0m\u001b[0;34m[\u001b[0m\u001b[0;34m'complaint_type'\u001b[0m\u001b[0;34m]\u001b[0m\u001b[0;34m\u001b[0m\u001b[0m\n\u001b[0;32m--> 107\u001b[0;31m                                 \u001b[0;32mif\u001b[0m \u001b[0mt1\u001b[0m \u001b[0;34m>=\u001b[0m \u001b[0mt2\u001b[0m\u001b[0;34m:\u001b[0m \u001b[0;31m# TODO: should this be strict?\u001b[0m\u001b[0;34m\u001b[0m\u001b[0m\n\u001b[0m\u001b[1;32m    108\u001b[0m                                     \u001b[0;32mif\u001b[0m \u001b[0mcomptype\u001b[0m \u001b[0;34m==\u001b[0m \u001b[0;36m0\u001b[0m\u001b[0;34m:\u001b[0m\u001b[0;34m\u001b[0m\u001b[0m\n\u001b[1;32m    109\u001b[0m                                         \u001b[0mpast_nbr_set_0\u001b[0m\u001b[0;34m[\u001b[0m\u001b[0mt\u001b[0m\u001b[0;34m]\u001b[0m\u001b[0;34m.\u001b[0m\u001b[0madd\u001b[0m\u001b[0;34m(\u001b[0m\u001b[0mv\u001b[0m\u001b[0;34m)\u001b[0m\u001b[0;34m\u001b[0m\u001b[0m\n",
      "\u001b[0;31mNameError\u001b[0m: global name 't1' is not defined"
     ]
    }
   ],
   "source": [
    "oid_nbrcomp = num_of_nbr_complaints_typed_past_future(G,oids,6,include_self=False,threshold=0)"
   ]
  },
  {
   "cell_type": "code",
   "execution_count": null,
   "metadata": {
    "collapsed": false
   },
   "outputs": [],
   "source": [
    "oid_nbrcomp[0][1] + oid_nbrcomp[1][1] + oid_nbrcomp[2][1]"
   ]
  },
  {
   "cell_type": "code",
   "execution_count": 9,
   "metadata": {
    "collapsed": true
   },
   "outputs": [],
   "source": [
    "oid_nbrcomp_base = num_of_nbr_complaints(G,oids,6,include_self=False)"
   ]
  },
  {
   "cell_type": "code",
   "execution_count": 10,
   "metadata": {
    "collapsed": false
   },
   "outputs": [
    {
     "data": {
      "text/plain": [
       "array([5, 4, 4, 4, 3, 3])"
      ]
     },
     "execution_count": 10,
     "metadata": {},
     "output_type": "execute_result"
    }
   ],
   "source": [
    "oid_nbrcomp_base[1]"
   ]
  },
  {
   "cell_type": "code",
   "execution_count": null,
   "metadata": {
    "collapsed": true
   },
   "outputs": [],
   "source": []
  },
  {
   "cell_type": "code",
   "execution_count": null,
   "metadata": {
    "collapsed": true
   },
   "outputs": [],
   "source": []
  }
 ],
 "metadata": {
  "anaconda-cloud": {},
  "kernelspec": {
   "display_name": "Python [conda root]",
   "language": "python",
   "name": "conda-root-py"
  },
  "language_info": {
   "codemirror_mode": {
    "name": "ipython",
    "version": 2
   },
   "file_extension": ".py",
   "mimetype": "text/x-python",
   "name": "python",
   "nbconvert_exporter": "python",
   "pygments_lexer": "ipython2",
   "version": "2.7.12"
  }
 },
 "nbformat": 4,
 "nbformat_minor": 1
}
