{
 "cells": [
  {
   "cell_type": "code",
   "execution_count": 9,
   "metadata": {
    "collapsed": true
   },
   "outputs": [],
   "source": [
    "import pandas as pd; import numpy as np;"
   ]
  },
  {
   "cell_type": "code",
   "execution_count": 25,
   "metadata": {
    "collapsed": true
   },
   "outputs": [],
   "source": [
    "def count_complaints_in_year(year, x):\n",
    "    x['year'] = pd.DatetimeIndex(x['incident_date']).year \n",
    "    x1 = x[(x.year == year)]\n",
    "    x2 = x1.groupby(['officer_id']).size()\n",
    "    return x2\n",
    "\n",
    "def add_complaints_by_year(base_year, nlags, df_complaints, df_officers):\n",
    "    Y = df_officers\n",
    "    for year in range(base_year,base_year-nlags,-1):\n",
    "        q = count_complaints_in_year(year, df_complaints).to_frame()\n",
    "        j = year-base_year\n",
    "        jstr = 'Lag%d' % j\n",
    "        q.columns = [jstr]\n",
    "        Y = Y.merge(q, left_on = 'officer_id', right_index = 1, how = 'outer')\n",
    "    Y.fillna(value = 0, inplace = True)\n",
    "    return Y\n",
    "        "
   ]
  },
  {
   "cell_type": "code",
   "execution_count": 23,
   "metadata": {
    "collapsed": false
   },
   "outputs": [],
   "source": [
    "# Load Data\n",
    "complaints = pd.read_csv('data/toy.complaint_data.csv'); \n",
    "officers = pd.read_csv('data/toy.officer_data.csv'); \n",
    "r = add_complaints_by_year(2015, 5, complaints, officers)"
   ]
  },
  {
   "cell_type": "code",
   "execution_count": 24,
   "metadata": {
    "collapsed": false
   },
   "outputs": [
    {
     "data": {
      "text/html": [
       "<div>\n",
       "<table border=\"1\" class=\"dataframe\">\n",
       "  <thead>\n",
       "    <tr style=\"text-align: right;\">\n",
       "      <th></th>\n",
       "      <th>first.name</th>\n",
       "      <th>last.name</th>\n",
       "      <th>appointed.date</th>\n",
       "      <th>race</th>\n",
       "      <th>gender</th>\n",
       "      <th>birth.year</th>\n",
       "      <th>age</th>\n",
       "      <th>rank</th>\n",
       "      <th>primary</th>\n",
       "      <th>secondary</th>\n",
       "      <th>tertiary</th>\n",
       "      <th>officer_id</th>\n",
       "      <th>Lag0</th>\n",
       "      <th>Lag-1</th>\n",
       "      <th>Lag-2</th>\n",
       "      <th>Lag-3</th>\n",
       "      <th>Lag-4</th>\n",
       "    </tr>\n",
       "  </thead>\n",
       "  <tbody>\n",
       "    <tr>\n",
       "      <th>0</th>\n",
       "      <td>KARINA</td>\n",
       "      <td>AARON</td>\n",
       "      <td>2005-09-26</td>\n",
       "      <td>HISPANIC</td>\n",
       "      <td>FEMALE</td>\n",
       "      <td>1980</td>\n",
       "      <td>35.0</td>\n",
       "      <td>POLICE OFFICER</td>\n",
       "      <td>0</td>\n",
       "      <td>1</td>\n",
       "      <td>0</td>\n",
       "      <td>1139</td>\n",
       "      <td>0.0</td>\n",
       "      <td>0.0</td>\n",
       "      <td>0.0</td>\n",
       "      <td>0.0</td>\n",
       "      <td>3.0</td>\n",
       "    </tr>\n",
       "    <tr>\n",
       "      <th>1</th>\n",
       "      <td>AZIZ</td>\n",
       "      <td>ABDELMAJEID</td>\n",
       "      <td>2008-04-28</td>\n",
       "      <td>A_OTHER</td>\n",
       "      <td>MALE</td>\n",
       "      <td>1984</td>\n",
       "      <td>31.0</td>\n",
       "      <td>POLICE OFFICER</td>\n",
       "      <td>0</td>\n",
       "      <td>0</td>\n",
       "      <td>1</td>\n",
       "      <td>434</td>\n",
       "      <td>0.0</td>\n",
       "      <td>0.0</td>\n",
       "      <td>0.0</td>\n",
       "      <td>0.0</td>\n",
       "      <td>0.0</td>\n",
       "    </tr>\n",
       "    <tr>\n",
       "      <th>2</th>\n",
       "      <td>JENNIFER</td>\n",
       "      <td>ACCARDO</td>\n",
       "      <td>2004-11-29</td>\n",
       "      <td>WHITE</td>\n",
       "      <td>FEMALE</td>\n",
       "      <td>1979</td>\n",
       "      <td>37.0</td>\n",
       "      <td>POLICE OFFICER</td>\n",
       "      <td>0</td>\n",
       "      <td>0</td>\n",
       "      <td>1</td>\n",
       "      <td>2515</td>\n",
       "      <td>0.0</td>\n",
       "      <td>0.0</td>\n",
       "      <td>0.0</td>\n",
       "      <td>0.0</td>\n",
       "      <td>1.0</td>\n",
       "    </tr>\n",
       "    <tr>\n",
       "      <th>3</th>\n",
       "      <td>ROSEMARY</td>\n",
       "      <td>ACCARDO</td>\n",
       "      <td>1986-08-11</td>\n",
       "      <td>WHITE</td>\n",
       "      <td>FEMALE</td>\n",
       "      <td>1952</td>\n",
       "      <td>63.0</td>\n",
       "      <td>POLICE OFFICER</td>\n",
       "      <td>0</td>\n",
       "      <td>0</td>\n",
       "      <td>1</td>\n",
       "      <td>1149</td>\n",
       "      <td>0.0</td>\n",
       "      <td>0.0</td>\n",
       "      <td>0.0</td>\n",
       "      <td>0.0</td>\n",
       "      <td>0.0</td>\n",
       "    </tr>\n",
       "    <tr>\n",
       "      <th>4</th>\n",
       "      <td>THOMAS</td>\n",
       "      <td>ACCARDO</td>\n",
       "      <td>2001-04-30</td>\n",
       "      <td>WHITE</td>\n",
       "      <td>MALE</td>\n",
       "      <td>1967</td>\n",
       "      <td>49.0</td>\n",
       "      <td>POLICE OFFICER</td>\n",
       "      <td>0</td>\n",
       "      <td>1</td>\n",
       "      <td>0</td>\n",
       "      <td>2134</td>\n",
       "      <td>0.0</td>\n",
       "      <td>1.0</td>\n",
       "      <td>2.0</td>\n",
       "      <td>1.0</td>\n",
       "      <td>0.0</td>\n",
       "    </tr>\n",
       "  </tbody>\n",
       "</table>\n",
       "</div>"
      ],
      "text/plain": [
       "  first.name    last.name appointed.date      race  gender  birth.year   age  \\\n",
       "0     KARINA        AARON     2005-09-26  HISPANIC  FEMALE        1980  35.0   \n",
       "1       AZIZ  ABDELMAJEID     2008-04-28   A_OTHER    MALE        1984  31.0   \n",
       "2   JENNIFER      ACCARDO     2004-11-29     WHITE  FEMALE        1979  37.0   \n",
       "3   ROSEMARY      ACCARDO     1986-08-11     WHITE  FEMALE        1952  63.0   \n",
       "4     THOMAS      ACCARDO     2001-04-30     WHITE    MALE        1967  49.0   \n",
       "\n",
       "             rank  primary  secondary  tertiary  officer_id  Lag0  Lag-1  \\\n",
       "0  POLICE OFFICER        0          1         0        1139   0.0    0.0   \n",
       "1  POLICE OFFICER        0          0         1         434   0.0    0.0   \n",
       "2  POLICE OFFICER        0          0         1        2515   0.0    0.0   \n",
       "3  POLICE OFFICER        0          0         1        1149   0.0    0.0   \n",
       "4  POLICE OFFICER        0          1         0        2134   0.0    1.0   \n",
       "\n",
       "   Lag-2  Lag-3  Lag-4  \n",
       "0    0.0    0.0    3.0  \n",
       "1    0.0    0.0    0.0  \n",
       "2    0.0    0.0    1.0  \n",
       "3    0.0    0.0    0.0  \n",
       "4    2.0    1.0    0.0  "
      ]
     },
     "execution_count": 24,
     "metadata": {},
     "output_type": "execute_result"
    }
   ],
   "source": [
    "r.head()"
   ]
  },
  {
   "cell_type": "markdown",
   "metadata": {},
   "source": [
    "Function 'add_complaints_by_year(base_year, nlags, df_complaints, df_officers)'\n",
    "Arguments:\n",
    "base_year = year at which model is being fit\n",
    "nlags = number of lagged years (relative to over which officer's "
   ]
  },
  {
   "cell_type": "code",
   "execution_count": null,
   "metadata": {
    "collapsed": true
   },
   "outputs": [],
   "source": []
  }
 ],
 "metadata": {
  "kernelspec": {
   "display_name": "Python 3",
   "language": "python",
   "name": "python3"
  },
  "language_info": {
   "codemirror_mode": {
    "name": "ipython",
    "version": 3
   },
   "file_extension": ".py",
   "mimetype": "text/x-python",
   "name": "python",
   "nbconvert_exporter": "python",
   "pygments_lexer": "ipython3",
   "version": "3.5.1"
  }
 },
 "nbformat": 4,
 "nbformat_minor": 1
}
