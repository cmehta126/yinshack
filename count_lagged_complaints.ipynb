{
 "cells": [
  {
   "cell_type": "code",
   "execution_count": 1,
   "metadata": {
    "collapsed": true
   },
   "outputs": [],
   "source": [
    "import pandas as pd; import numpy as np;"
   ]
  },
  {
   "cell_type": "code",
   "execution_count": 2,
   "metadata": {
    "collapsed": true
   },
   "outputs": [],
   "source": [
    "def count_complaints_in_year(year, x):\n",
    "    x['year'] = pd.DatetimeIndex(x['incident_date']).year \n",
    "    x1 = x[(x.year == year)]\n",
    "    x2 = x1.groupby(['officer_id']).size()\n",
    "    return x2\n",
    "\n",
    "def add_complaints_by_year(base_year, nlags, df_complaints, df_officers):\n",
    "    Y = df_officers\n",
    "    for year in range(base_year,base_year-nlags,-1):\n",
    "        q = count_complaints_in_year(year, df_complaints).to_frame()\n",
    "        j = year-base_year\n",
    "        jstr = 'Lag%d' % j\n",
    "        q.columns = [jstr]\n",
    "        Y = Y.merge(q, left_on = 'officer_id', right_index = 1, how = 'outer')\n",
    "    Y.fillna(value = 0, inplace = True)\n",
    "    return Y\n",
    "        "
   ]
  },
  {
   "cell_type": "code",
   "execution_count": 3,
   "metadata": {
    "collapsed": false
   },
   "outputs": [],
   "source": [
    "# Load Data\n",
    "complaints = pd.read_csv('data/toy.complaint_data.csv'); \n",
    "officers = pd.read_csv('data/toy.officer_data.csv'); "
   ]
  },
  {
   "cell_type": "markdown",
   "metadata": {},
   "source": [
    "Function 'add_complaints_by_year(base_year, nlags, df_complaints, df_officers)'\n",
    "Arguments:\n",
    "base_year = year at which model is being fit\n",
    "nlags = number of lagged years (relative to over which officer's "
   ]
  }
 ],
 "metadata": {
  "kernelspec": {
   "display_name": "Python [conda root]",
   "language": "python",
   "name": "conda-root-py"
  },
  "language_info": {
   "codemirror_mode": {
    "name": "ipython",
    "version": 3
   },
   "file_extension": ".py",
   "mimetype": "text/x-python",
   "name": "python",
   "nbconvert_exporter": "python",
   "pygments_lexer": "ipython3",
   "version": "3.5.2"
  }
 },
 "nbformat": 4,
 "nbformat_minor": 1
}
